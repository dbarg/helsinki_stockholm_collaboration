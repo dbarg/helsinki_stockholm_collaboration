{
 "cells": [
  {
   "cell_type": "markdown",
   "metadata": {},
   "source": [
    "## ABC applied to position reconstruction\n",
    "\n",
    "*Bart Pelssers, 26-02-2018*\n",
    "\n",
    "This notebook provides some ingredients for applying the ABC algorithm to position reconstruction, the most basic case. Just to test the framework.\n",
    "\n",
    "\n",
    "* Provides:\n",
    "  * prior mean\n",
    "  * forward model\n",
    "  * summary statistic"
   ]
  },
  {
   "cell_type": "code",
   "execution_count": 1,
   "metadata": {
    "collapsed": true
   },
   "outputs": [],
   "source": [
    "import numpy as np"
   ]
  },
  {
   "cell_type": "code",
   "execution_count": 2,
   "metadata": {
    "collapsed": false
   },
   "outputs": [
    {
     "name": "stdout",
     "output_type": "stream",
     "text": [
      "You don't have ROOT or root_pandas, root truth file output is disabled\n"
     ]
    }
   ],
   "source": [
    "# Using the XENON1T data processor\n",
    "from pax import utils\n",
    "from pax.configuration import load_configuration\n",
    "from pax.PatternFitter import PatternFitter\n",
    "from pax.plugins.io.WaveformSimulator import uniform_circle_rv"
   ]
  },
  {
   "cell_type": "code",
   "execution_count": 3,
   "metadata": {
    "collapsed": false
   },
   "outputs": [],
   "source": [
    "class PriorPosition():\n",
    "    \"\"\"Implements the calculation of the mean of a prior\n",
    "       given a pattern (either from data or from the forward model)\n",
    "    \"\"\"\n",
    "    \n",
    "    def __init__(self):\n",
    "        # Get some settings from the XENON1T detector configuration\n",
    "        config = load_configuration('XENON1T')\n",
    "        \n",
    "        # PMT positions\n",
    "        pmt_config = config['DEFAULT']['pmts']\n",
    "        \n",
    "        # List of dicts {'x': , 'y'}, which the position\n",
    "        self.positions = [pmt['position'] for pmt in pmt_config][:127]\n",
    "\n",
    "    def __call__(self, pattern):\n",
    "        # The id of the PMT that sees most light\n",
    "        max_pmt = np.argmax(pattern)\n",
    "        \n",
    "        # The position of that PMT\n",
    "        pos = self.positions[max_pmt]\n",
    "        \n",
    "        return pos['x'], pos['y']        \n",
    "        \n",
    "\n",
    "class Model():\n",
    "    \"\"\"Implements the forward model for ABC project.\n",
    "    \n",
    "       The forward model used here is the most basic test case.\n",
    "       It draws from the per-PMT S2 LCE maps to provide a\n",
    "       hitpattern for a given x,y. Assumes all top PMTs live.\n",
    "       Also the total number of detected photo-electrons needs to\n",
    "       be specified, this is set constant by default.\n",
    "    \"\"\"\n",
    "\n",
    "    def __init__(self):\n",
    "        # Get some settings from the XENON1T detector configuration\n",
    "        config = load_configuration('XENON1T')\n",
    "        \n",
    "        # The per-PMT S2 LCE maps (and zoom factor which is a technical detail)\n",
    "        lce_maps = config['WaveformSimulator']['s2_patterns_file']\n",
    "        lce_map_zoom = config['WaveformSimulator']['s2_patterns_zoom_factor']\n",
    "\n",
    "        # Simulate the right PMT response\n",
    "        qes = np.array(config['DEFAULT']['quantum_efficiencies'])\n",
    "        top_pmts = config['DEFAULT']['channels_top']\n",
    "        errors = config['DEFAULT']['relative_qe_error'] + config['DEFAULT']['relative_gain_error']\n",
    "\n",
    "        # Set up the PatternFitter which sample the LCE maps\n",
    "        self.pf = PatternFitter(filename=utils.data_file_name(lce_maps),\n",
    "                                zoom_factor=lce_map_zoom,\n",
    "                                adjust_to_qe=qes[top_pmts],\n",
    "                                default_errors=errors)\n",
    "\n",
    "    def __call__(self, x, y, n_obs = 500):\n",
    "        \"\"\"Returns a hitpattern of n_obs photo-electrons\n",
    "           for given x, y position.\n",
    "        \"\"\"\n",
    "        \n",
    "        return n_obs * self.pf.expected_pattern((x, y))\n",
    "\n",
    "\n",
    "class Generator():\n",
    "    \"\"\"Generates test hitpatterns by drawing from LCE maps (forward model)\"\"\"\n",
    "    \n",
    "    def __init__(self, model):\n",
    "        # Get some settings from the XENON1T detector configuration\n",
    "        config = load_configuration('XENON1T')\n",
    "        self.tpc_radius = config['DEFAULT']['tpc_radius']\n",
    "        \n",
    "        # Use the forward model also as generator for now\n",
    "        self.model = model\n",
    "    \n",
    "    def __call__(self):\n",
    "        return self.model(*uniform_circle_rv(self.tpc_radius))"
   ]
  },
  {
   "cell_type": "code",
   "execution_count": 4,
   "metadata": {
    "collapsed": false
   },
   "outputs": [],
   "source": [
    "# Setup the Models\n",
    "model = Model()\n",
    "prior_mean = PriorPosition()\n",
    "generator = Generator(model)"
   ]
  },
  {
   "cell_type": "code",
   "execution_count": 5,
   "metadata": {
    "collapsed": false
   },
   "outputs": [
    {
     "data": {
      "text/plain": [
       "array([  0.89593613,   0.55337818,   0.58689273,   0.47171583,\n",
       "         0.28723324,   0.48338636,   0.32073939,   0.40041972,\n",
       "         0.34548325,   0.35697107,   0.27514878,   0.26588176,\n",
       "         0.38396175,   0.29961561,   0.37439128,   0.40000699,\n",
       "         0.34299432,   0.28187137,   0.3592507 ,   0.61287027,\n",
       "         0.33165501,   0.48972627,   0.41780896,   0.66553855,\n",
       "         0.63979629,   0.77564647,   1.23229133,   1.77073408,\n",
       "         3.234718  ,   8.99752181,  26.92533933,  36.81775468,\n",
       "        17.25044176,   5.52992475,   2.34364439,   1.39577918,\n",
       "         1.35017945,   1.11307121,   0.76837082,   0.68908675,\n",
       "         0.74666928,   0.832106  ,   0.67306562,   0.66999703,\n",
       "         0.66476075,   0.68034571,   0.72456624,   0.66490088,\n",
       "         0.62026226,   0.62045237,   0.56075331,   0.75543873,\n",
       "         0.70490042,   0.79567617,   0.71308609,   0.85567637,\n",
       "         0.91214977,   1.13424607,   1.77209101,   3.65981681,\n",
       "        12.06967789,  68.64098872,  90.1781484 ,  17.87419894,\n",
       "         4.41395717,   2.28355351,   1.54109843,   1.1083136 ,\n",
       "         0.88379037,   0.81173485,   0.74559668,   0.75525549,\n",
       "         0.68103683,   0.56167422,   0.59469759,   0.80419782,\n",
       "         0.55551828,   0.77664829,   0.78668068,   0.78146121,\n",
       "         0.80164828,   0.74546834,   1.00973992,   1.35476238,\n",
       "         2.7466171 ,   7.71838629,  35.81422209,  35.27102341,\n",
       "         7.90250875,   2.24982768,   1.53965413,   1.10298871,\n",
       "         0.80976219,   0.74194013,   0.82751484,   0.68038764,\n",
       "         0.71591824,   0.73310691,   0.91880479,   0.84860791,\n",
       "         0.87647386,   1.05270828,   0.99554169,   1.71847406,\n",
       "         3.4503415 ,   7.93287802,   6.87272095,   2.84255506,\n",
       "         1.43149126,   1.09249857,   0.96856344,   0.81921058,\n",
       "         0.77486941,   0.73853185,   0.74804234,   0.82592275,\n",
       "         1.13820641,   1.74999159,   2.59863293,   2.3227438 ,\n",
       "         1.33522767,   1.01617055,   0.86445301,   0.92818353,\n",
       "         1.36791036,   1.3453117 ,   1.01308738])"
      ]
     },
     "execution_count": 5,
     "metadata": {},
     "output_type": "execute_result"
    }
   ],
   "source": [
    "# Example pattern from some unknown x,y position\n",
    "generator()"
   ]
  },
  {
   "cell_type": "code",
   "execution_count": 6,
   "metadata": {
    "collapsed": false
   },
   "outputs": [
    {
     "name": "stdout",
     "output_type": "stream",
     "text": [
      "Length of pattern: 127, Sum of pattern: 500.00\n",
      "[  0.38380166   0.41537353   0.39553333   0.50098828   0.52944289\n",
      "   0.58591603   0.56589008   0.70695663   0.95604715   1.24240681\n",
      "   1.73795135   2.58792553   3.52043052   4.09192643   4.30745586\n",
      "   2.80196583   2.12977881   1.44824766   0.94742216   0.75621597\n",
      "   0.69163486   0.60090247   0.6541341    0.46846789   0.42496789\n",
      "   0.44825287   0.46466767   0.45177168   0.3799691    0.34540879\n",
      "   0.46125516   0.36648025   0.35792033   0.37139642   0.44512946\n",
      "   0.4700616    0.65978395   0.70655844   0.72618991   0.86043664\n",
      "   1.02138069   0.91583681   1.10452859   1.78946327   2.40828215\n",
      "   4.67516569   9.22073926  11.85984413   8.55169094   4.2165689\n",
      "   2.39809303   1.51885938   1.1952463    0.99576857   0.99345914\n",
      "   0.71552314   0.75153697   0.7784726    0.66604251   0.62908966\n",
      "   0.61447725   0.7072028    0.60351863   0.57881621   0.83823376\n",
      "   0.68045143   0.75001609   0.71080193   0.92486869   1.12672182\n",
      "   1.14216264   1.68770307   3.18247771   9.17594532  39.48434289\n",
      "  63.76625448  20.75823941   4.62668734   2.48128997   1.56837148\n",
      "   0.92412588   0.99370156   0.86654123   0.81359027   0.83529907\n",
      "   0.58813045   0.75242314   0.72073981   0.70723844   0.78044884\n",
      "   0.87032027   0.90649885   1.08886463   1.48081403   2.58584234\n",
      "  10.27644748  61.69878691  73.30150632  13.27183354   3.10929825\n",
      "   1.54166993   1.09456756   0.89507197   0.88674882   0.79836759\n",
      "   0.77771517   0.85529382   0.78672175   1.03714017   1.27126207\n",
      "   1.7654803    4.87688073  17.22895086  13.70094962   3.1075828\n",
      "   1.78249838   1.05456572   0.84988499   0.83821141   0.89150274\n",
      "   1.39012158   2.018238     4.12027314   2.67745168   1.33955582\n",
      "   1.12036908   1.9392323 ]\n"
     ]
    }
   ],
   "source": [
    "# Example pattern from x=24, y=-12\n",
    "\n",
    "# The range of x and y is [-47.884375 cm, -47.884375 cm]\n",
    "# But x**2 + y**2 < 47.884375**2\n",
    "# Otherwise m() will raise and exception\n",
    "\n",
    "pattern = model(24, -12)\n",
    "\n",
    "print(\"Length of pattern: %d, Sum of pattern: %.2f\" % (len(pattern), pattern.sum()))\n",
    "print(pattern)"
   ]
  },
  {
   "cell_type": "code",
   "execution_count": 7,
   "metadata": {
    "collapsed": false
   },
   "outputs": [
    {
     "data": {
      "text/plain": [
       "(19.536776256292445, -13.679798006972462)"
      ]
     },
     "execution_count": 7,
     "metadata": {},
     "output_type": "execute_result"
    }
   ],
   "source": [
    "# If using a 2D Normal prior this would be a good guess for the mean (x,y) of that prior.\n",
    "prior_mean(pattern)"
   ]
  },
  {
   "cell_type": "markdown",
   "metadata": {
    "collapsed": true
   },
   "source": [
    "# Generate hitpatterns\n",
    "\n",
    "Update 22-03-2018\n",
    "\n",
    "Generate hitpatterns from true x,y position to reconstruct with Pax and compare to ABC method"
   ]
  },
  {
   "cell_type": "code",
   "execution_count": 42,
   "metadata": {
    "collapsed": true
   },
   "outputs": [],
   "source": [
    "import pandas as pd\n",
    "import matplotlib\n",
    "import matplotlib.pyplot as plt\n",
    "\n",
    "%matplotlib inline"
   ]
  },
  {
   "cell_type": "code",
   "execution_count": 18,
   "metadata": {
    "collapsed": false
   },
   "outputs": [],
   "source": [
    "# Read true positions list\n",
    "filename = 'truepos'  # Text file with x_y per row\n",
    "\n",
    "true_pos = pd.read_csv(filename, header=None, names=['x_true', 'y_true'], sep=' ')"
   ]
  },
  {
   "cell_type": "code",
   "execution_count": 31,
   "metadata": {
    "collapsed": true
   },
   "outputs": [],
   "source": [
    "# Add the hitpatterns based on the simple model\n",
    "def add_pattern(row):\n",
    "    row['pattern'] = model(row['x'], row['y'])\n",
    "    return row"
   ]
  },
  {
   "cell_type": "code",
   "execution_count": 32,
   "metadata": {
    "collapsed": false
   },
   "outputs": [],
   "source": [
    "true_pos = true_pos.apply(add_pattern, axis=1)"
   ]
  },
  {
   "cell_type": "code",
   "execution_count": 34,
   "metadata": {
    "collapsed": false
   },
   "outputs": [
    {
     "data": {
      "text/html": [
       "<div>\n",
       "<table border=\"1\" class=\"dataframe\">\n",
       "  <thead>\n",
       "    <tr style=\"text-align: right;\">\n",
       "      <th></th>\n",
       "      <th>x</th>\n",
       "      <th>y</th>\n",
       "      <th>pattern</th>\n",
       "    </tr>\n",
       "  </thead>\n",
       "  <tbody>\n",
       "    <tr>\n",
       "      <th>0</th>\n",
       "      <td>2.626434</td>\n",
       "      <td>-17.960824</td>\n",
       "      <td>[0.419950930068, 0.372405234093, 0.30625238674...</td>\n",
       "    </tr>\n",
       "    <tr>\n",
       "      <th>1</th>\n",
       "      <td>10.907536</td>\n",
       "      <td>-6.312277</td>\n",
       "      <td>[0.36590354596, 0.431868630313, 0.415567393778...</td>\n",
       "    </tr>\n",
       "    <tr>\n",
       "      <th>2</th>\n",
       "      <td>2.726006</td>\n",
       "      <td>37.749081</td>\n",
       "      <td>[6.96156779371, 18.8536409827, 29.5916028493, ...</td>\n",
       "    </tr>\n",
       "    <tr>\n",
       "      <th>3</th>\n",
       "      <td>-21.259064</td>\n",
       "      <td>-4.445240</td>\n",
       "      <td>[0.48932787294, 0.519369620378, 0.400254996234...</td>\n",
       "    </tr>\n",
       "    <tr>\n",
       "      <th>4</th>\n",
       "      <td>-18.078293</td>\n",
       "      <td>-23.212466</td>\n",
       "      <td>[0.365582665914, 0.349420945622, 0.34600863191...</td>\n",
       "    </tr>\n",
       "  </tbody>\n",
       "</table>\n",
       "</div>"
      ],
      "text/plain": [
       "           x          y                                            pattern\n",
       "0   2.626434 -17.960824  [0.419950930068, 0.372405234093, 0.30625238674...\n",
       "1  10.907536  -6.312277  [0.36590354596, 0.431868630313, 0.415567393778...\n",
       "2   2.726006  37.749081  [6.96156779371, 18.8536409827, 29.5916028493, ...\n",
       "3 -21.259064  -4.445240  [0.48932787294, 0.519369620378, 0.400254996234...\n",
       "4 -18.078293 -23.212466  [0.365582665914, 0.349420945622, 0.34600863191..."
      ]
     },
     "execution_count": 34,
     "metadata": {},
     "output_type": "execute_result"
    }
   ],
   "source": [
    "true_pos.head()"
   ]
  },
  {
   "cell_type": "code",
   "execution_count": 37,
   "metadata": {
    "collapsed": false
   },
   "outputs": [],
   "source": [
    "# Store patterns for reconstruction\n",
    "np.savez('simple_lce_model_patterns', hitpattern = true_pos['pattern'].values)"
   ]
  },
  {
   "cell_type": "code",
   "execution_count": 38,
   "metadata": {
    "collapsed": true
   },
   "outputs": [],
   "source": [
    "# Load reconstructed patterns\n",
    "reconstructed = np.load(\"simple_lce_model_patterns_rec.npz\")"
   ]
  },
  {
   "cell_type": "code",
   "execution_count": 53,
   "metadata": {
    "collapsed": true
   },
   "outputs": [],
   "source": [
    "true_pos['x_rec'] = reconstructed['x_tpf_qe']\n",
    "true_pos['y_rec'] = reconstructed['y_tpf_qe']\n",
    "true_pos['x_rec_nn'] = reconstructed['x_nn_qe']\n",
    "true_pos['y_rec_nn'] = reconstructed['y_nn_qe']"
   ]
  },
  {
   "cell_type": "code",
   "execution_count": 55,
   "metadata": {
    "collapsed": true
   },
   "outputs": [],
   "source": [
    "true_pos['d_tpf'] = np.sqrt((true_pos['x'] - true_pos['x_rec'])**2 + (true_pos['y'] - true_pos['y_rec'])**2)\n",
    "true_pos['d_nn'] = np.sqrt((true_pos['x'] - true_pos['x_rec_nn'])**2 + (true_pos['y'] - true_pos['y_rec_nn'])**2)"
   ]
  },
  {
   "cell_type": "code",
   "execution_count": 64,
   "metadata": {
    "collapsed": false
   },
   "outputs": [
    {
     "data": {
      "text/html": [
       "<div>\n",
       "<table border=\"1\" class=\"dataframe\">\n",
       "  <thead>\n",
       "    <tr style=\"text-align: right;\">\n",
       "      <th></th>\n",
       "      <th>x</th>\n",
       "      <th>y</th>\n",
       "      <th>pattern</th>\n",
       "      <th>x_rec</th>\n",
       "      <th>y_rec</th>\n",
       "      <th>x_rec_nn</th>\n",
       "      <th>y_rec_nn</th>\n",
       "      <th>d_tpf</th>\n",
       "      <th>d_nn</th>\n",
       "    </tr>\n",
       "  </thead>\n",
       "  <tbody>\n",
       "    <tr>\n",
       "      <th>0</th>\n",
       "      <td>2.626434</td>\n",
       "      <td>-17.960824</td>\n",
       "      <td>[0.419950930068, 0.372405234093, 0.30625238674...</td>\n",
       "      <td>2.520230</td>\n",
       "      <td>-17.881634</td>\n",
       "      <td>2.535508</td>\n",
       "      <td>-18.200328</td>\n",
       "      <td>0.132478</td>\n",
       "      <td>0.256184</td>\n",
       "    </tr>\n",
       "    <tr>\n",
       "      <th>1</th>\n",
       "      <td>10.907536</td>\n",
       "      <td>-6.312277</td>\n",
       "      <td>[0.36590354596, 0.431868630313, 0.415567393778...</td>\n",
       "      <td>10.920998</td>\n",
       "      <td>-6.360581</td>\n",
       "      <td>11.275090</td>\n",
       "      <td>-6.346362</td>\n",
       "      <td>0.050145</td>\n",
       "      <td>0.369130</td>\n",
       "    </tr>\n",
       "    <tr>\n",
       "      <th>2</th>\n",
       "      <td>2.726006</td>\n",
       "      <td>37.749081</td>\n",
       "      <td>[6.96156779371, 18.8536409827, 29.5916028493, ...</td>\n",
       "      <td>2.760252</td>\n",
       "      <td>37.803454</td>\n",
       "      <td>3.125084</td>\n",
       "      <td>37.720948</td>\n",
       "      <td>0.064259</td>\n",
       "      <td>0.400069</td>\n",
       "    </tr>\n",
       "    <tr>\n",
       "      <th>3</th>\n",
       "      <td>-21.259064</td>\n",
       "      <td>-4.445240</td>\n",
       "      <td>[0.48932787294, 0.519369620378, 0.400254996234...</td>\n",
       "      <td>-21.241941</td>\n",
       "      <td>-4.440406</td>\n",
       "      <td>-21.017482</td>\n",
       "      <td>-3.832932</td>\n",
       "      <td>0.017792</td>\n",
       "      <td>0.658242</td>\n",
       "    </tr>\n",
       "    <tr>\n",
       "      <th>4</th>\n",
       "      <td>-18.078293</td>\n",
       "      <td>-23.212466</td>\n",
       "      <td>[0.365582665914, 0.349420945622, 0.34600863191...</td>\n",
       "      <td>-18.121656</td>\n",
       "      <td>-23.162116</td>\n",
       "      <td>-17.869011</td>\n",
       "      <td>-22.379250</td>\n",
       "      <td>0.066449</td>\n",
       "      <td>0.859097</td>\n",
       "    </tr>\n",
       "  </tbody>\n",
       "</table>\n",
       "</div>"
      ],
      "text/plain": [
       "           x          y                                            pattern  \\\n",
       "0   2.626434 -17.960824  [0.419950930068, 0.372405234093, 0.30625238674...   \n",
       "1  10.907536  -6.312277  [0.36590354596, 0.431868630313, 0.415567393778...   \n",
       "2   2.726006  37.749081  [6.96156779371, 18.8536409827, 29.5916028493, ...   \n",
       "3 -21.259064  -4.445240  [0.48932787294, 0.519369620378, 0.400254996234...   \n",
       "4 -18.078293 -23.212466  [0.365582665914, 0.349420945622, 0.34600863191...   \n",
       "\n",
       "       x_rec      y_rec   x_rec_nn   y_rec_nn     d_tpf      d_nn  \n",
       "0   2.520230 -17.881634   2.535508 -18.200328  0.132478  0.256184  \n",
       "1  10.920998  -6.360581  11.275090  -6.346362  0.050145  0.369130  \n",
       "2   2.760252  37.803454   3.125084  37.720948  0.064259  0.400069  \n",
       "3 -21.241941  -4.440406 -21.017482  -3.832932  0.017792  0.658242  \n",
       "4 -18.121656 -23.162116 -17.869011 -22.379250  0.066449  0.859097  "
      ]
     },
     "execution_count": 64,
     "metadata": {},
     "output_type": "execute_result"
    }
   ],
   "source": [
    "true_pos.head()"
   ]
  },
  {
   "cell_type": "code",
   "execution_count": 67,
   "metadata": {
    "collapsed": false
   },
   "outputs": [
    {
     "data": {
      "image/png": "[encoded data removed]",
      "text/plain": [
       "<matplotlib.figure.Figure at 0x7f2fd742df98>"
      ]
     },
     "metadata": {},
     "output_type": "display_data"
    }
   ],
   "source": [
    "# Check if postions make sense\n",
    "plt.rcParams['font.size'] = 16\n",
    "d_range = 1\n",
    "plt.figure(figsize=(8,6))\n",
    "plt.hist(true_pos['d_tpf'], bins=100, range=(0, d_range), histtype='step', label='TPF')\n",
    "plt.hist(true_pos['d_nn'], bins=100, range=(0, d_range), histtype='step', label='NN')\n",
    "plt.axvline(1/8, color='red', linestyle='--', label='LCE binning')\n",
    "plt.xlim(0, d_range)\n",
    "plt.xlabel('Distance [cm]')\n",
    "plt.ylabel('counts')\n",
    "plt.legend()\n",
    "plt.savefig('d_tpf_nn_simple.png', dpi=150)\n",
    "plt.show()"
   ]
  },
  {
   "cell_type": "code",
   "execution_count": 70,
   "metadata": {
    "collapsed": true
   },
   "outputs": [],
   "source": [
    "# Save the positions (drop the patterns since these take up a lot of space)\n",
    "true_pos.drop('pattern', inplace=True, axis=1)\n",
    "\n",
    "true_pos.to_hdf('reconstructed_postions_simple.hdf', key='pos')"
   ]
  },
  {
   "cell_type": "code",
   "execution_count": 72,
   "metadata": {
    "collapsed": true
   },
   "outputs": [],
   "source": [
    "# How to load this back into python\n",
    "data = pd.read_hdf('reconstructed_postions_simple.hdf', key='pos')"
   ]
  },
  {
   "cell_type": "code",
   "execution_count": 73,
   "metadata": {
    "collapsed": false
   },
   "outputs": [
    {
     "data": {
      "text/html": [
       "<div>\n",
       "<table border=\"1\" class=\"dataframe\">\n",
       "  <thead>\n",
       "    <tr style=\"text-align: right;\">\n",
       "      <th></th>\n",
       "      <th>x</th>\n",
       "      <th>y</th>\n",
       "      <th>x_rec</th>\n",
       "      <th>y_rec</th>\n",
       "      <th>x_rec_nn</th>\n",
       "      <th>y_rec_nn</th>\n",
       "      <th>d_tpf</th>\n",
       "      <th>d_nn</th>\n",
       "    </tr>\n",
       "  </thead>\n",
       "  <tbody>\n",
       "    <tr>\n",
       "      <th>0</th>\n",
       "      <td>2.626434</td>\n",
       "      <td>-17.960824</td>\n",
       "      <td>2.520230</td>\n",
       "      <td>-17.881634</td>\n",
       "      <td>2.535508</td>\n",
       "      <td>-18.200328</td>\n",
       "      <td>0.132478</td>\n",
       "      <td>0.256184</td>\n",
       "    </tr>\n",
       "    <tr>\n",
       "      <th>1</th>\n",
       "      <td>10.907536</td>\n",
       "      <td>-6.312277</td>\n",
       "      <td>10.920998</td>\n",
       "      <td>-6.360581</td>\n",
       "      <td>11.275090</td>\n",
       "      <td>-6.346362</td>\n",
       "      <td>0.050145</td>\n",
       "      <td>0.369130</td>\n",
       "    </tr>\n",
       "    <tr>\n",
       "      <th>2</th>\n",
       "      <td>2.726006</td>\n",
       "      <td>37.749081</td>\n",
       "      <td>2.760252</td>\n",
       "      <td>37.803454</td>\n",
       "      <td>3.125084</td>\n",
       "      <td>37.720948</td>\n",
       "      <td>0.064259</td>\n",
       "      <td>0.400069</td>\n",
       "    </tr>\n",
       "    <tr>\n",
       "      <th>3</th>\n",
       "      <td>-21.259064</td>\n",
       "      <td>-4.445240</td>\n",
       "      <td>-21.241941</td>\n",
       "      <td>-4.440406</td>\n",
       "      <td>-21.017482</td>\n",
       "      <td>-3.832932</td>\n",
       "      <td>0.017792</td>\n",
       "      <td>0.658242</td>\n",
       "    </tr>\n",
       "    <tr>\n",
       "      <th>4</th>\n",
       "      <td>-18.078293</td>\n",
       "      <td>-23.212466</td>\n",
       "      <td>-18.121656</td>\n",
       "      <td>-23.162116</td>\n",
       "      <td>-17.869011</td>\n",
       "      <td>-22.379250</td>\n",
       "      <td>0.066449</td>\n",
       "      <td>0.859097</td>\n",
       "    </tr>\n",
       "  </tbody>\n",
       "</table>\n",
       "</div>"
      ],
      "text/plain": [
       "           x          y      x_rec      y_rec   x_rec_nn   y_rec_nn     d_tpf  \\\n",
       "0   2.626434 -17.960824   2.520230 -17.881634   2.535508 -18.200328  0.132478   \n",
       "1  10.907536  -6.312277  10.920998  -6.360581  11.275090  -6.346362  0.050145   \n",
       "2   2.726006  37.749081   2.760252  37.803454   3.125084  37.720948  0.064259   \n",
       "3 -21.259064  -4.445240 -21.241941  -4.440406 -21.017482  -3.832932  0.017792   \n",
       "4 -18.078293 -23.212466 -18.121656 -23.162116 -17.869011 -22.379250  0.066449   \n",
       "\n",
       "       d_nn  \n",
       "0  0.256184  \n",
       "1  0.369130  \n",
       "2  0.400069  \n",
       "3  0.658242  \n",
       "4  0.859097  "
      ]
     },
     "execution_count": 73,
     "metadata": {},
     "output_type": "execute_result"
    }
   ],
   "source": [
    "data.head()"
   ]
  },
  {
   "cell_type": "code",
   "execution_count": null,
   "metadata": {
    "collapsed": true
   },
   "outputs": [],
   "source": []
  }
 ],
 "metadata": {
  "kernelspec": {
   "display_name": "Python 3",
   "language": "python",
   "name": "python3"
  },
  "language_info": {
   "codemirror_mode": {
    "name": "ipython",
    "version": 3
   },
   "file_extension": ".py",
   "mimetype": "text/x-python",
   "name": "python",
   "nbconvert_exporter": "python",
   "pygments_lexer": "ipython3",
   "version": "3.4.5"
  }
 },
 "nbformat": 4,
 "nbformat_minor": 0
}
