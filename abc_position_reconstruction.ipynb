{
 "cells": [
  {
   "cell_type": "markdown",
   "metadata": {},
   "source": [
    "## ABC applied to position reconstruction\n",
    "\n",
    "*Bart Pelssers, 26-02-2018*\n",
    "\n",
    "This notebook provides some ingredients for applying the ABC algorithm to position reconstruction, the most basic case. Just to test the framework.\n",
    "\n",
    "\n",
    "* Provides:\n",
    "  * prior mean\n",
    "  * forward model\n",
    "  * summary statistic"
   ]
  },
  {
   "cell_type": "code",
   "execution_count": 1,
   "metadata": {
    "collapsed": true
   },
   "outputs": [],
   "source": [
    "import numpy as np"
   ]
  },
  {
   "cell_type": "code",
   "execution_count": 2,
   "metadata": {
    "collapsed": false
   },
   "outputs": [],
   "source": [
    "# Using the XENON1T data processor\n",
    "from pax import utils\n",
    "from pax.configuration import load_configuration\n",
    "from pax.PatternFitter import PatternFitter\n",
    "from pax.plugins.io.WaveformSimulator import uniform_circle_rv"
   ]
  },
  {
   "cell_type": "code",
   "execution_count": 3,
   "metadata": {
    "collapsed": false
   },
   "outputs": [],
   "source": [
    "class PriorPosition():\n",
    "    \"\"\"Implements the calculation of the mean of a prior\n",
    "       given a pattern (either from data or from the forward model)\n",
    "    \"\"\"\n",
    "    \n",
    "    def __init__(self):\n",
    "        # Get some settings from the XENON1T detector configuration\n",
    "        config = load_configuration('XENON1T')\n",
    "        \n",
    "        # PMT positions\n",
    "        pmt_config = config['DEFAULT']['pmts']\n",
    "        \n",
    "        # List of dicts {'x': , 'y'}, which the position\n",
    "        self.positions = [pmt['position'] for pmt in pmt_config][:127]\n",
    "\n",
    "    def __call__(self, pattern):\n",
    "        # The id of the PMT that sees most light\n",
    "        max_pmt = np.argmax(pattern)\n",
    "        \n",
    "        # The position of that PMT\n",
    "        pos = self.positions[max_pmt]\n",
    "        \n",
    "        return pos['x'], pos['y']        \n",
    "        \n",
    "\n",
    "class Model():\n",
    "    \"\"\"Implements the forward model for ABC project.\n",
    "    \n",
    "       The forward model used here is the most basic test case.\n",
    "       It draws from the per-PMT S2 LCE maps to provide a\n",
    "       hitpattern for a given x,y. Assumes all top PMTs live.\n",
    "       Also the total number of detected photo-electrons needs to\n",
    "       be specified, this is set constant by default.\n",
    "    \"\"\"\n",
    "\n",
    "    def __init__(self):\n",
    "        # Get some settings from the XENON1T detector configuration\n",
    "        config = load_configuration('XENON1T')\n",
    "        \n",
    "        # The per-PMT S2 LCE maps (and zoom factor which is a technical detail)\n",
    "        lce_maps = config['WaveformSimulator']['s2_patterns_file']\n",
    "        lce_map_zoom = config['WaveformSimulator']['s2_patterns_zoom_factor']\n",
    "\n",
    "        # Simulate the right PMT response\n",
    "        qes = np.array(config['DEFAULT']['quantum_efficiencies'])\n",
    "        top_pmts = config['DEFAULT']['channels_top']\n",
    "        errors = config['DEFAULT']['relative_qe_error'] + config['DEFAULT']['relative_gain_error']\n",
    "\n",
    "        # Set up the PatternFitter which sample the LCE maps\n",
    "        self.pf = PatternFitter(filename=utils.data_file_name(lce_maps),\n",
    "                                zoom_factor=lce_map_zoom,\n",
    "                                adjust_to_qe=qes[top_pmts],\n",
    "                                default_errors=errors)\n",
    "\n",
    "    def __call__(self, x, y, n_obs = 500):\n",
    "        \"\"\"Returns a hitpattern of n_obs photo-electrons\n",
    "           for given x, y position.\n",
    "        \"\"\"\n",
    "        \n",
    "        return n_obs * self.pf.expected_pattern((x, y))\n",
    "\n",
    "\n",
    "class Generator():\n",
    "    \"\"\"Generates test hitpatterns by drawing from LCE maps (forward model)\"\"\"\n",
    "    \n",
    "    def __init__(self, model):\n",
    "        # Get some settings from the XENON1T detector configuration\n",
    "        config = load_configuration('XENON1T')\n",
    "        self.tpc_radius = config['DEFAULT']['tpc_radius']\n",
    "        \n",
    "        # Use the forward model also as generator for now\n",
    "        self.model = model\n",
    "    \n",
    "    def __call__(self):\n",
    "        return self.model(*uniform_circle_rv(self.tpc_radius))"
   ]
  },
  {
   "cell_type": "code",
   "execution_count": 4,
   "metadata": {
    "collapsed": false
   },
   "outputs": [],
   "source": [
    "# Setup the Models\n",
    "model = Model()\n",
    "prior_mean = PriorPosition()\n",
    "generator = Generator(model)"
   ]
  },
  {
   "cell_type": "code",
   "execution_count": 5,
   "metadata": {
    "collapsed": false
   },
   "outputs": [
    {
     "data": {
      "text/plain": [
       "array([   0.39210056,    0.42116387,    0.49146609,    0.6492735 ,\n",
       "          0.78701824,    1.04278539,    1.56752916,    3.02345386,\n",
       "          8.8167784 ,   30.84459043,   48.84053092,   20.50164816,\n",
       "          5.88254313,    2.50329281,    1.44128656,    0.89463838,\n",
       "          0.67413846,    0.63135954,    0.46844248,    0.46262775,\n",
       "          0.46326254,    0.39417298,    0.38223789,    0.39357651,\n",
       "          0.39175567,    0.34310544,    0.3747821 ,    0.38408381,\n",
       "          0.31252028,    0.38427949,    0.33913843,    0.42675795,\n",
       "          0.42199762,    0.44085829,    0.45643749,    0.52858694,\n",
       "          0.70938193,    0.8185129 ,    0.80851395,    0.96576379,\n",
       "          1.38576771,    2.31692014,    5.21790655,   26.02008392,\n",
       "        106.69719651,   52.66369507,    8.90867158,    2.79064265,\n",
       "          1.49508207,    1.21232133,    1.08814447,    0.89953175,\n",
       "          0.69876625,    0.67414192,    0.68006458,    0.71851844,\n",
       "          0.56563009,    0.64645594,    0.62075072,    0.56685373,\n",
       "          0.63719739,    0.53816561,    0.61256813,    0.6476553 ,\n",
       "          0.6006959 ,    0.68861828,    0.81315189,    0.94179102,\n",
       "          1.07192776,    1.47443106,    2.34914277,    6.44850112,\n",
       "         25.14681054,   27.94781098,    7.49057862,    2.47806061,\n",
       "          1.38553712,    1.03610897,    0.8118379 ,    0.81069982,\n",
       "          0.88500527,    0.70017786,    0.71417417,    0.62758668,\n",
       "          0.68501336,    0.69221601,    0.74090152,    0.86464223,\n",
       "          0.73014549,    0.73110289,    0.98835567,    1.02466743,\n",
       "          1.25587576,    2.08196869,    4.51178119,    6.74526829,\n",
       "          3.8851513 ,    1.9998104 ,    1.2677934 ,    1.06951775,\n",
       "          0.91058248,    0.85123746,    0.69048918,    0.77449158,\n",
       "          0.67718051,    0.73927914,    0.82613388,    0.87429571,\n",
       "          0.88375142,    1.0777131 ,    1.67551364,    2.31184757,\n",
       "          1.87889426,    1.30163905,    1.17030815,    0.91783986,\n",
       "          0.80994006,    0.61211677,    0.76296783,    0.83079381,\n",
       "          0.8013625 ,    1.21355379,    1.40565772,    1.05709151,\n",
       "          0.93714251,    0.91955332,    1.01263796])"
      ]
     },
     "execution_count": 5,
     "metadata": {},
     "output_type": "execute_result"
    }
   ],
   "source": [
    "# Example pattern from some unknown x,y position\n",
    "generator()"
   ]
  },
  {
   "cell_type": "code",
   "execution_count": 6,
   "metadata": {
    "collapsed": false
   },
   "outputs": [
    {
     "name": "stdout",
     "output_type": "stream",
     "text": [
      "Length of pattern: 127, Sum of pattern: 500.00\n",
      "[  0.38380166   0.41537353   0.39553333   0.50098828   0.52944289\n",
      "   0.58591603   0.56589008   0.70695663   0.95604715   1.24240681\n",
      "   1.73795135   2.58792553   3.52043052   4.09192643   4.30745586\n",
      "   2.80196583   2.12977881   1.44824766   0.94742216   0.75621597\n",
      "   0.69163486   0.60090247   0.6541341    0.46846789   0.42496789\n",
      "   0.44825287   0.46466767   0.45177168   0.3799691    0.34540879\n",
      "   0.46125516   0.36648025   0.35792033   0.37139642   0.44512946\n",
      "   0.4700616    0.65978395   0.70655844   0.72618991   0.86043664\n",
      "   1.02138069   0.91583681   1.10452859   1.78946327   2.40828215\n",
      "   4.67516569   9.22073926  11.85984413   8.55169094   4.2165689\n",
      "   2.39809303   1.51885938   1.1952463    0.99576857   0.99345914\n",
      "   0.71552314   0.75153697   0.7784726    0.66604251   0.62908966\n",
      "   0.61447725   0.7072028    0.60351863   0.57881621   0.83823376\n",
      "   0.68045143   0.75001609   0.71080193   0.92486869   1.12672182\n",
      "   1.14216264   1.68770307   3.18247771   9.17594532  39.48434289\n",
      "  63.76625448  20.75823941   4.62668734   2.48128997   1.56837148\n",
      "   0.92412588   0.99370156   0.86654123   0.81359027   0.83529907\n",
      "   0.58813045   0.75242314   0.72073981   0.70723844   0.78044884\n",
      "   0.87032027   0.90649885   1.08886463   1.48081403   2.58584234\n",
      "  10.27644748  61.69878691  73.30150632  13.27183354   3.10929825\n",
      "   1.54166993   1.09456756   0.89507197   0.88674882   0.79836759\n",
      "   0.77771517   0.85529382   0.78672175   1.03714017   1.27126207\n",
      "   1.7654803    4.87688073  17.22895086  13.70094962   3.1075828\n",
      "   1.78249838   1.05456572   0.84988499   0.83821141   0.89150274\n",
      "   1.39012158   2.018238     4.12027314   2.67745168   1.33955582\n",
      "   1.12036908   1.9392323 ]\n"
     ]
    }
   ],
   "source": [
    "# Example pattern from x=24, y=-12\n",
    "\n",
    "# The range of x and y is [-47.884375 cm, -47.884375 cm]\n",
    "# But x**2 + y**2 < 47.884375**2\n",
    "# Otherwise m() will raise and exception\n",
    "\n",
    "pattern = model(24, -12)\n",
    "\n",
    "print(\"Length of pattern: %d, Sum of pattern: %.2f\" % (len(pattern), pattern.sum()))\n",
    "print(pattern)"
   ]
  },
  {
   "cell_type": "code",
   "execution_count": 7,
   "metadata": {
    "collapsed": false
   },
   "outputs": [
    {
     "data": {
      "text/plain": [
       "(19.536776256292445, -13.679798006972462)"
      ]
     },
     "execution_count": 7,
     "metadata": {},
     "output_type": "execute_result"
    }
   ],
   "source": [
    "# If using a 2D Normal prior this would be a good guess for the mean (x,y) of that prior.\n",
    "prior_mean(pattern)"
   ]
  },
  {
   "cell_type": "code",
   "execution_count": null,
   "metadata": {
    "collapsed": true
   },
   "outputs": [],
   "source": []
  }
 ],
 "metadata": {
  "kernelspec": {
   "display_name": "Python 3",
   "language": "python",
   "name": "python3"
  },
  "language_info": {
   "codemirror_mode": {
    "name": "ipython",
    "version": 3
   },
   "file_extension": ".py",
   "mimetype": "text/x-python",
   "name": "python",
   "nbconvert_exporter": "python",
   "pygments_lexer": "ipython3",
   "version": "3.4.5"
  }
 },
 "nbformat": 4,
 "nbformat_minor": 0
}
