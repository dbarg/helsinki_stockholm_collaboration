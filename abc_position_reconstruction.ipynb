{
 "cells": [
  {
   "cell_type": "markdown",
   "metadata": {},
   "source": [
    "## ABC applied to position reconstruction\n",
    "\n",
    "*Bart Pelssers, 26-02-2018, most recent update 20-04-2018*\n",
    "\n",
    "This notebook provides some ingredients for applying the ABC algorithm to position reconstruction, the most basic case. Just to test the framework.\n",
    "\n",
    "\n",
    "* Provides:\n",
    "  * prior mean\n",
    "  * forward model\n",
    "  * summary statistic"
   ]
  },
  {
   "cell_type": "code",
   "execution_count": 1,
   "metadata": {},
   "outputs": [],
   "source": [
    "import numpy as np"
   ]
  },
  {
   "cell_type": "code",
   "execution_count": 2,
   "metadata": {},
   "outputs": [
    {
     "name": "stdout",
     "output_type": "stream",
     "text": [
      "You don't have ROOT or root_pandas, root truth file output is disabled\n"
     ]
    }
   ],
   "source": [
    "from abc_reconstruction.simpleModel import SimpleModel\n",
    "from abc_reconstruction.utils import PriorPosition, Generator"
   ]
  },
  {
   "cell_type": "code",
   "execution_count": 3,
   "metadata": {},
   "outputs": [],
   "source": [
    "# Setup the Models\n",
    "model = SimpleModel()\n",
    "prior_mean = PriorPosition()\n",
    "generator = Generator(model)"
   ]
  },
  {
   "cell_type": "code",
   "execution_count": 5,
   "metadata": {},
   "outputs": [
    {
     "data": {
      "text/plain": [
       "array([  0.50863945,   0.33705895,   0.44937516,   0.27095042,\n",
       "         0.35889195,   0.24580363,   0.34503317,   0.21881566,\n",
       "         0.28677499,   0.2104232 ,   0.17881596,   0.19869443,\n",
       "         0.18830608,   0.17468941,   0.27832288,   0.23707473,\n",
       "         0.17110782,   0.34965276,   0.22858973,   0.28226425,\n",
       "         0.23898326,   0.36621281,   0.38868638,   0.43661718,\n",
       "         0.44051818,   0.64196656,   0.6805659 ,   0.87625738,\n",
       "         0.99840489,   1.16357807,   1.2219402 ,   1.31818801,\n",
       "         1.18425173,   1.0320139 ,   0.809354  ,   0.66120235,\n",
       "         0.9444326 ,   0.81723391,   0.66141362,   0.58945844,\n",
       "         0.61726607,   0.58199702,   0.46650015,   0.51376411,\n",
       "         0.43879956,   0.48190923,   0.45018597,   0.40987082,\n",
       "         0.56905908,   0.56335092,   0.496536  ,   0.67062304,\n",
       "         0.56454325,   0.6724137 ,   0.6884499 ,   0.75842087,\n",
       "         0.8844224 ,   0.86587258,   1.18396362,   1.74347765,\n",
       "         1.96104393,   2.13421288,   1.92770339,   1.72518651,\n",
       "         1.38225043,   1.13233282,   1.54499742,   1.14055091,\n",
       "         1.11263058,   0.71573905,   0.7090924 ,   0.60685577,\n",
       "         0.54213848,   0.54638569,   0.57009983,   0.46007565,\n",
       "         0.5532578 ,   0.53818725,   0.68415859,   0.62062017,\n",
       "         0.8791206 ,   1.08836011,   1.21112666,   1.8525256 ,\n",
       "         3.09432148,   5.24440851,   7.13213607,   6.12700454,\n",
       "         3.95334156,   2.24058786,   3.35527155,   1.68972654,\n",
       "         1.06315353,   0.92074486,   0.73567072,   0.68566476,\n",
       "         0.64244632,   0.90677974,   0.78934651,   0.73114265,\n",
       "         1.01764136,   1.34563079,   2.44996081,   5.52029993,\n",
       "        18.76169538,  42.38590857,  29.83484581,   9.48398142,\n",
       "         7.76636629,   2.48466153,   1.32238455,   0.9917581 ,\n",
       "         0.9493607 ,   0.75256188,   1.15386799,   1.90928374,\n",
       "         5.32981365,  27.07768977, 121.13921637,  49.05783445,\n",
       "        10.86235409,   2.71802066,   1.82452699,   2.25305205,\n",
       "         8.27495812,  37.70258182,   6.06735355])"
      ]
     },
     "execution_count": 5,
     "metadata": {},
     "output_type": "execute_result"
    }
   ],
   "source": [
    "# Example pattern from some unknown x,y position\n",
    "generator()"
   ]
  },
  {
   "cell_type": "code",
   "execution_count": 6,
   "metadata": {},
   "outputs": [
    {
     "name": "stdout",
     "output_type": "stream",
     "text": [
      "Length of pattern: 127, Sum of pattern: 500.00\n",
      "[ 0.15557719  0.19895666  0.24922448  0.2724799   0.27603412  0.32449659\n",
      "  0.46050632  0.42301344  0.70506899  1.03060055  1.49578963  2.37547693\n",
      "  3.52593554  3.95085483  3.86295943  2.53731881  1.74439776  1.23509644\n",
      "  0.79510001  0.55862571  0.38564723  0.36349537  0.26005279  0.29975047\n",
      "  0.26727978  0.20429186  0.16533915  0.18444405  0.20685526  0.18781974\n",
      "  0.12732736  0.19919409  0.17400086  0.21413046  0.2363081   0.19032239\n",
      "  0.42978286  0.45080137  0.43135062  0.62552338  0.71541464  0.90842272\n",
      "  1.01409495  1.32520928  2.25855376  4.58073379  9.29216553 13.23124765\n",
      "  9.35138085  4.50353515  2.12894642  1.33947176  0.96438981  0.7805329\n",
      "  0.65992508  0.72478981  0.60333853  0.64092246  0.43065135  0.4776672\n",
      "  0.42722602  0.47022137  0.48347138  0.42317722  0.46218003  0.41164114\n",
      "  0.5434028   0.62935448  0.57891689  0.73046393  1.00482359  1.44051276\n",
      "  2.82032086  9.48582028 42.77481076 73.98752745 22.15800888  4.55795975\n",
      "  2.00682113  1.21986769  0.88199342  0.80840704  0.64715839  0.59661833\n",
      "  0.54728476  0.54761472  0.49064898  0.4952057   0.4817794   0.55180015\n",
      "  0.70935065  0.74931743  0.78378943  1.14321406  2.3902517   9.9705529\n",
      " 64.08999221 80.54049478 13.15806738  2.92349346  1.47257329  0.78006564\n",
      "  0.75800636  0.58620369  0.5619902   0.59252039  0.5813888   0.62083872\n",
      "  0.85162562  0.9060132   1.58775961  4.37221197 16.72333023 13.36108932\n",
      "  3.35672622  1.31514309  0.95274319  0.67270515  0.66997832  0.5738309\n",
      "  0.88518236  1.59710785  3.71305405  2.29623793  1.04346429  0.88384587\n",
      "  1.44817626]\n"
     ]
    }
   ],
   "source": [
    "# Example pattern from x=24, y=-12\n",
    "\n",
    "# The range of x and y is [-47.884375 cm, -47.884375 cm]\n",
    "# But x**2 + y**2 < 47.884375**2\n",
    "# Otherwise model() will raise and exception\n",
    "\n",
    "pattern = model(24, -12)\n",
    "\n",
    "print(\"Length of pattern: %d, Sum of pattern: %.2f\" % (len(pattern), pattern.sum()))\n",
    "print(pattern)"
   ]
  },
  {
   "cell_type": "code",
   "execution_count": 7,
   "metadata": {},
   "outputs": [
    {
     "data": {
      "text/plain": [
       "(19.536776256292445, -13.679798006972462)"
      ]
     },
     "execution_count": 7,
     "metadata": {},
     "output_type": "execute_result"
    }
   ],
   "source": [
    "# If using a 2D Normal prior this would be a good guess for the mean (x,y) of that prior.\n",
    "prior_mean(pattern)"
   ]
  },
  {
   "cell_type": "markdown",
   "metadata": {
    "collapsed": true
   },
   "source": [
    "# Generate hitpatterns\n",
    "\n",
    "Update 22-03-2018\n",
    "\n",
    "Generate hitpatterns from true x,y position to reconstruct with Pax and compare to ABC method"
   ]
  },
  {
   "cell_type": "code",
   "execution_count": 34,
   "metadata": {},
   "outputs": [],
   "source": [
    "import pandas as pd\n",
    "import matplotlib\n",
    "import matplotlib.pyplot as plt\n",
    "\n",
    "%matplotlib inline"
   ]
  },
  {
   "cell_type": "code",
   "execution_count": 35,
   "metadata": {},
   "outputs": [],
   "source": [
    "# Read true positions list\n",
    "filename = 'truepos'  # Text file with x_y per row\n",
    "\n",
    "true_pos = pd.read_csv(filename, header=None, names=['x_true', 'y_true'], sep=' ')"
   ]
  },
  {
   "cell_type": "code",
   "execution_count": 36,
   "metadata": {},
   "outputs": [
    {
     "data": {
      "text/html": [
       "<div>\n",
       "<style scoped>\n",
       "    .dataframe tbody tr th:only-of-type {\n",
       "        vertical-align: middle;\n",
       "    }\n",
       "\n",
       "    .dataframe tbody tr th {\n",
       "        vertical-align: top;\n",
       "    }\n",
       "\n",
       "    .dataframe thead th {\n",
       "        text-align: right;\n",
       "    }\n",
       "</style>\n",
       "<table border=\"1\" class=\"dataframe\">\n",
       "  <thead>\n",
       "    <tr style=\"text-align: right;\">\n",
       "      <th></th>\n",
       "      <th>x_true</th>\n",
       "      <th>y_true</th>\n",
       "    </tr>\n",
       "  </thead>\n",
       "  <tbody>\n",
       "    <tr>\n",
       "      <th>0</th>\n",
       "      <td>2.626434</td>\n",
       "      <td>-17.960824</td>\n",
       "    </tr>\n",
       "    <tr>\n",
       "      <th>1</th>\n",
       "      <td>10.907536</td>\n",
       "      <td>-6.312277</td>\n",
       "    </tr>\n",
       "    <tr>\n",
       "      <th>2</th>\n",
       "      <td>2.726006</td>\n",
       "      <td>37.749081</td>\n",
       "    </tr>\n",
       "    <tr>\n",
       "      <th>3</th>\n",
       "      <td>-21.259064</td>\n",
       "      <td>-4.445240</td>\n",
       "    </tr>\n",
       "    <tr>\n",
       "      <th>4</th>\n",
       "      <td>-18.078293</td>\n",
       "      <td>-23.212466</td>\n",
       "    </tr>\n",
       "  </tbody>\n",
       "</table>\n",
       "</div>"
      ],
      "text/plain": [
       "      x_true     y_true\n",
       "0   2.626434 -17.960824\n",
       "1  10.907536  -6.312277\n",
       "2   2.726006  37.749081\n",
       "3 -21.259064  -4.445240\n",
       "4 -18.078293 -23.212466"
      ]
     },
     "execution_count": 36,
     "metadata": {},
     "output_type": "execute_result"
    }
   ],
   "source": [
    "true_pos.head()"
   ]
  },
  {
   "cell_type": "code",
   "execution_count": 37,
   "metadata": {},
   "outputs": [],
   "source": [
    "# Add the hitpatterns based on the simple model\n",
    "def add_pattern(row):\n",
    "    row['pattern'] = model(row['x_true'], row['y_true'])\n",
    "    return row"
   ]
  },
  {
   "cell_type": "code",
   "execution_count": 38,
   "metadata": {},
   "outputs": [],
   "source": [
    "true_pos = true_pos.apply(add_pattern, axis=1)"
   ]
  },
  {
   "cell_type": "code",
   "execution_count": 39,
   "metadata": {},
   "outputs": [
    {
     "data": {
      "text/html": [
       "<div>\n",
       "<style scoped>\n",
       "    .dataframe tbody tr th:only-of-type {\n",
       "        vertical-align: middle;\n",
       "    }\n",
       "\n",
       "    .dataframe tbody tr th {\n",
       "        vertical-align: top;\n",
       "    }\n",
       "\n",
       "    .dataframe thead th {\n",
       "        text-align: right;\n",
       "    }\n",
       "</style>\n",
       "<table border=\"1\" class=\"dataframe\">\n",
       "  <thead>\n",
       "    <tr style=\"text-align: right;\">\n",
       "      <th></th>\n",
       "      <th>x_true</th>\n",
       "      <th>y_true</th>\n",
       "      <th>pattern</th>\n",
       "    </tr>\n",
       "  </thead>\n",
       "  <tbody>\n",
       "    <tr>\n",
       "      <th>0</th>\n",
       "      <td>2.626434</td>\n",
       "      <td>-17.960824</td>\n",
       "      <td>[0.14841595200891483, 0.14397197856567667, 0.1...</td>\n",
       "    </tr>\n",
       "    <tr>\n",
       "      <th>1</th>\n",
       "      <td>10.907536</td>\n",
       "      <td>-6.312277</td>\n",
       "      <td>[0.2772208672784861, 0.18600688250547348, 0.21...</td>\n",
       "    </tr>\n",
       "    <tr>\n",
       "      <th>2</th>\n",
       "      <td>2.726006</td>\n",
       "      <td>37.749081</td>\n",
       "      <td>[7.066845982206454, 19.236392492314472, 30.553...</td>\n",
       "    </tr>\n",
       "    <tr>\n",
       "      <th>3</th>\n",
       "      <td>-21.259064</td>\n",
       "      <td>-4.445240</td>\n",
       "      <td>[0.22450618881550075, 0.2793734178937784, 0.19...</td>\n",
       "    </tr>\n",
       "    <tr>\n",
       "      <th>4</th>\n",
       "      <td>-18.078293</td>\n",
       "      <td>-23.212466</td>\n",
       "      <td>[0.1974036643923429, 0.16818957719006675, 0.11...</td>\n",
       "    </tr>\n",
       "  </tbody>\n",
       "</table>\n",
       "</div>"
      ],
      "text/plain": [
       "      x_true     y_true                                            pattern\n",
       "0   2.626434 -17.960824  [0.14841595200891483, 0.14397197856567667, 0.1...\n",
       "1  10.907536  -6.312277  [0.2772208672784861, 0.18600688250547348, 0.21...\n",
       "2   2.726006  37.749081  [7.066845982206454, 19.236392492314472, 30.553...\n",
       "3 -21.259064  -4.445240  [0.22450618881550075, 0.2793734178937784, 0.19...\n",
       "4 -18.078293 -23.212466  [0.1974036643923429, 0.16818957719006675, 0.11..."
      ]
     },
     "execution_count": 39,
     "metadata": {},
     "output_type": "execute_result"
    }
   ],
   "source": [
    "true_pos.head()"
   ]
  },
  {
   "cell_type": "code",
   "execution_count": 40,
   "metadata": {},
   "outputs": [],
   "source": [
    "# Store patterns for reconstruction\n",
    "np.savez('data/simple_lce_model_patterns', hitpattern = true_pos['pattern'].values)"
   ]
  },
  {
   "cell_type": "code",
   "execution_count": 41,
   "metadata": {},
   "outputs": [],
   "source": [
    "# Load reconstructed patterns\n",
    "reconstructed = np.load(\"data/simple_lce_model_patterns_rec.npz\")\n",
    "#reconstructed_zoom = np.load(\"data/simple_lce_model_patterns_rec_zoom10.npz\")\n",
    "reconstructed_zoom = np.load(\"data/simple_lce_model_patterns_rec_zoom10_zoom10gen.npz\")"
   ]
  },
  {
   "cell_type": "code",
   "execution_count": 42,
   "metadata": {},
   "outputs": [],
   "source": [
    "true_pos['x_rec'] = reconstructed['x_tpf_qe']\n",
    "true_pos['y_rec'] = reconstructed['y_tpf_qe']\n",
    "true_pos['x_rec_nn'] = reconstructed['x_nn_qe']\n",
    "true_pos['y_rec_nn'] = reconstructed['y_nn_qe']\n",
    "\n",
    "true_pos['x_rec_zoom'] = reconstructed_zoom['x_tpf_qe']\n",
    "true_pos['y_rec_zoom'] = reconstructed_zoom['y_tpf_qe']"
   ]
  },
  {
   "cell_type": "code",
   "execution_count": 43,
   "metadata": {},
   "outputs": [],
   "source": [
    "true_pos['d_tpf'] = np.sqrt((true_pos['x_true'] - true_pos['x_rec'])**2 + (true_pos['y_true'] - true_pos['y_rec'])**2)\n",
    "true_pos['d_tpf_zoom'] = np.sqrt((true_pos['x_true'] - true_pos['x_rec_zoom'])**2 + (true_pos['y_true'] - true_pos['y_rec_zoom'])**2)\n",
    "true_pos['d_nn'] = np.sqrt((true_pos['x_true'] - true_pos['x_rec_nn'])**2 + (true_pos['y_true'] - true_pos['y_rec_nn'])**2)"
   ]
  },
  {
   "cell_type": "code",
   "execution_count": 44,
   "metadata": {},
   "outputs": [
    {
     "data": {
      "text/html": [
       "<div>\n",
       "<style scoped>\n",
       "    .dataframe tbody tr th:only-of-type {\n",
       "        vertical-align: middle;\n",
       "    }\n",
       "\n",
       "    .dataframe tbody tr th {\n",
       "        vertical-align: top;\n",
       "    }\n",
       "\n",
       "    .dataframe thead th {\n",
       "        text-align: right;\n",
       "    }\n",
       "</style>\n",
       "<table border=\"1\" class=\"dataframe\">\n",
       "  <thead>\n",
       "    <tr style=\"text-align: right;\">\n",
       "      <th></th>\n",
       "      <th>x_true</th>\n",
       "      <th>y_true</th>\n",
       "      <th>pattern</th>\n",
       "      <th>x_rec</th>\n",
       "      <th>y_rec</th>\n",
       "      <th>x_rec_nn</th>\n",
       "      <th>y_rec_nn</th>\n",
       "      <th>x_rec_zoom</th>\n",
       "      <th>y_rec_zoom</th>\n",
       "      <th>d_tpf</th>\n",
       "      <th>d_tpf_zoom</th>\n",
       "      <th>d_nn</th>\n",
       "    </tr>\n",
       "  </thead>\n",
       "  <tbody>\n",
       "    <tr>\n",
       "      <th>0</th>\n",
       "      <td>2.626434</td>\n",
       "      <td>-17.960824</td>\n",
       "      <td>[0.14841595200891483, 0.14397197856567667, 0.1...</td>\n",
       "      <td>2.520230</td>\n",
       "      <td>-17.881634</td>\n",
       "      <td>2.535508</td>\n",
       "      <td>-18.200328</td>\n",
       "      <td>2.613182</td>\n",
       "      <td>-17.943847</td>\n",
       "      <td>0.132478</td>\n",
       "      <td>0.021537</td>\n",
       "      <td>0.256184</td>\n",
       "    </tr>\n",
       "    <tr>\n",
       "      <th>1</th>\n",
       "      <td>10.907536</td>\n",
       "      <td>-6.312277</td>\n",
       "      <td>[0.2772208672784861, 0.18600688250547348, 0.21...</td>\n",
       "      <td>10.920998</td>\n",
       "      <td>-6.360581</td>\n",
       "      <td>11.275090</td>\n",
       "      <td>-6.346362</td>\n",
       "      <td>10.925588</td>\n",
       "      <td>-6.296523</td>\n",
       "      <td>0.050145</td>\n",
       "      <td>0.023959</td>\n",
       "      <td>0.369130</td>\n",
       "    </tr>\n",
       "    <tr>\n",
       "      <th>2</th>\n",
       "      <td>2.726006</td>\n",
       "      <td>37.749081</td>\n",
       "      <td>[7.066845982206454, 19.236392492314472, 30.553...</td>\n",
       "      <td>2.760252</td>\n",
       "      <td>37.803454</td>\n",
       "      <td>3.125084</td>\n",
       "      <td>37.720948</td>\n",
       "      <td>2.712731</td>\n",
       "      <td>37.754252</td>\n",
       "      <td>0.064259</td>\n",
       "      <td>0.014246</td>\n",
       "      <td>0.400069</td>\n",
       "    </tr>\n",
       "    <tr>\n",
       "      <th>3</th>\n",
       "      <td>-21.259064</td>\n",
       "      <td>-4.445240</td>\n",
       "      <td>[0.22450618881550075, 0.2793734178937784, 0.19...</td>\n",
       "      <td>-21.241941</td>\n",
       "      <td>-4.440406</td>\n",
       "      <td>-21.017482</td>\n",
       "      <td>-3.832932</td>\n",
       "      <td>-21.278764</td>\n",
       "      <td>-4.454852</td>\n",
       "      <td>0.017792</td>\n",
       "      <td>0.021921</td>\n",
       "      <td>0.658242</td>\n",
       "    </tr>\n",
       "    <tr>\n",
       "      <th>4</th>\n",
       "      <td>-18.078293</td>\n",
       "      <td>-23.212466</td>\n",
       "      <td>[0.1974036643923429, 0.16818957719006675, 0.11...</td>\n",
       "      <td>-18.121656</td>\n",
       "      <td>-23.162116</td>\n",
       "      <td>-17.869011</td>\n",
       "      <td>-22.379250</td>\n",
       "      <td>-18.093172</td>\n",
       "      <td>-23.219985</td>\n",
       "      <td>0.066449</td>\n",
       "      <td>0.016671</td>\n",
       "      <td>0.859097</td>\n",
       "    </tr>\n",
       "  </tbody>\n",
       "</table>\n",
       "</div>"
      ],
      "text/plain": [
       "      x_true     y_true                                            pattern  \\\n",
       "0   2.626434 -17.960824  [0.14841595200891483, 0.14397197856567667, 0.1...   \n",
       "1  10.907536  -6.312277  [0.2772208672784861, 0.18600688250547348, 0.21...   \n",
       "2   2.726006  37.749081  [7.066845982206454, 19.236392492314472, 30.553...   \n",
       "3 -21.259064  -4.445240  [0.22450618881550075, 0.2793734178937784, 0.19...   \n",
       "4 -18.078293 -23.212466  [0.1974036643923429, 0.16818957719006675, 0.11...   \n",
       "\n",
       "       x_rec      y_rec   x_rec_nn   y_rec_nn  x_rec_zoom  y_rec_zoom  \\\n",
       "0   2.520230 -17.881634   2.535508 -18.200328    2.613182  -17.943847   \n",
       "1  10.920998  -6.360581  11.275090  -6.346362   10.925588   -6.296523   \n",
       "2   2.760252  37.803454   3.125084  37.720948    2.712731   37.754252   \n",
       "3 -21.241941  -4.440406 -21.017482  -3.832932  -21.278764   -4.454852   \n",
       "4 -18.121656 -23.162116 -17.869011 -22.379250  -18.093172  -23.219985   \n",
       "\n",
       "      d_tpf  d_tpf_zoom      d_nn  \n",
       "0  0.132478    0.021537  0.256184  \n",
       "1  0.050145    0.023959  0.369130  \n",
       "2  0.064259    0.014246  0.400069  \n",
       "3  0.017792    0.021921  0.658242  \n",
       "4  0.066449    0.016671  0.859097  "
      ]
     },
     "execution_count": 44,
     "metadata": {},
     "output_type": "execute_result"
    }
   ],
   "source": [
    "true_pos.head()"
   ]
  },
  {
   "cell_type": "code",
   "execution_count": 45,
   "metadata": {},
   "outputs": [
    {
     "data": {
      "image/png": "[encoded data removed]",
      "text/plain": [
       "<Figure size 576x432 with 1 Axes>"
      ]
     },
     "metadata": {},
     "output_type": "display_data"
    }
   ],
   "source": [
    "# Check if postions make sense\n",
    "plt.rcParams['font.size'] = 16\n",
    "d_range = 1\n",
    "plt.figure(figsize=(8,6))\n",
    "plt.hist(true_pos['d_tpf'], bins=100, range=(0, d_range), histtype='step', label='TPF')\n",
    "plt.hist(true_pos['d_tpf_zoom'], bins=100, range=(0, d_range), histtype='step', label='TPF zoom')\n",
    "plt.hist(true_pos['d_nn'], bins=100, range=(0, d_range), histtype='step', label='NN')\n",
    "plt.axvline(1/8, color='red', linestyle='--', label='LCE binning')\n",
    "plt.xlim(0, d_range)\n",
    "plt.xlabel('Distance [cm]')\n",
    "plt.ylabel('counts')\n",
    "plt.legend()\n",
    "#plt.savefig('d_tpf_nn_simple.png', dpi=150)\n",
    "plt.show()"
   ]
  },
  {
   "cell_type": "code",
   "execution_count": 46,
   "metadata": {},
   "outputs": [],
   "source": [
    "# Save the positions (drop the patterns since these take up a lot of space)\n",
    "true_pos.drop('pattern', inplace=True, axis=1)\n",
    "\n",
    "true_pos.to_hdf('data/reconstructed_postions_simple.hdf', key='pos')"
   ]
  },
  {
   "cell_type": "code",
   "execution_count": 47,
   "metadata": {},
   "outputs": [],
   "source": [
    "# How to load this back into python\n",
    "data = pd.read_hdf('data/reconstructed_postions_simple.hdf', key='pos')"
   ]
  },
  {
   "cell_type": "code",
   "execution_count": 48,
   "metadata": {},
   "outputs": [
    {
     "data": {
      "text/html": [
       "<div>\n",
       "<style scoped>\n",
       "    .dataframe tbody tr th:only-of-type {\n",
       "        vertical-align: middle;\n",
       "    }\n",
       "\n",
       "    .dataframe tbody tr th {\n",
       "        vertical-align: top;\n",
       "    }\n",
       "\n",
       "    .dataframe thead th {\n",
       "        text-align: right;\n",
       "    }\n",
       "</style>\n",
       "<table border=\"1\" class=\"dataframe\">\n",
       "  <thead>\n",
       "    <tr style=\"text-align: right;\">\n",
       "      <th></th>\n",
       "      <th>x_true</th>\n",
       "      <th>y_true</th>\n",
       "      <th>x_rec</th>\n",
       "      <th>y_rec</th>\n",
       "      <th>x_rec_nn</th>\n",
       "      <th>y_rec_nn</th>\n",
       "      <th>x_rec_zoom</th>\n",
       "      <th>y_rec_zoom</th>\n",
       "      <th>d_tpf</th>\n",
       "      <th>d_tpf_zoom</th>\n",
       "      <th>d_nn</th>\n",
       "    </tr>\n",
       "  </thead>\n",
       "  <tbody>\n",
       "    <tr>\n",
       "      <th>0</th>\n",
       "      <td>2.626434</td>\n",
       "      <td>-17.960824</td>\n",
       "      <td>2.520230</td>\n",
       "      <td>-17.881634</td>\n",
       "      <td>2.535508</td>\n",
       "      <td>-18.200328</td>\n",
       "      <td>2.613182</td>\n",
       "      <td>-17.943847</td>\n",
       "      <td>0.132478</td>\n",
       "      <td>0.021537</td>\n",
       "      <td>0.256184</td>\n",
       "    </tr>\n",
       "    <tr>\n",
       "      <th>1</th>\n",
       "      <td>10.907536</td>\n",
       "      <td>-6.312277</td>\n",
       "      <td>10.920998</td>\n",
       "      <td>-6.360581</td>\n",
       "      <td>11.275090</td>\n",
       "      <td>-6.346362</td>\n",
       "      <td>10.925588</td>\n",
       "      <td>-6.296523</td>\n",
       "      <td>0.050145</td>\n",
       "      <td>0.023959</td>\n",
       "      <td>0.369130</td>\n",
       "    </tr>\n",
       "    <tr>\n",
       "      <th>2</th>\n",
       "      <td>2.726006</td>\n",
       "      <td>37.749081</td>\n",
       "      <td>2.760252</td>\n",
       "      <td>37.803454</td>\n",
       "      <td>3.125084</td>\n",
       "      <td>37.720948</td>\n",
       "      <td>2.712731</td>\n",
       "      <td>37.754252</td>\n",
       "      <td>0.064259</td>\n",
       "      <td>0.014246</td>\n",
       "      <td>0.400069</td>\n",
       "    </tr>\n",
       "    <tr>\n",
       "      <th>3</th>\n",
       "      <td>-21.259064</td>\n",
       "      <td>-4.445240</td>\n",
       "      <td>-21.241941</td>\n",
       "      <td>-4.440406</td>\n",
       "      <td>-21.017482</td>\n",
       "      <td>-3.832932</td>\n",
       "      <td>-21.278764</td>\n",
       "      <td>-4.454852</td>\n",
       "      <td>0.017792</td>\n",
       "      <td>0.021921</td>\n",
       "      <td>0.658242</td>\n",
       "    </tr>\n",
       "    <tr>\n",
       "      <th>4</th>\n",
       "      <td>-18.078293</td>\n",
       "      <td>-23.212466</td>\n",
       "      <td>-18.121656</td>\n",
       "      <td>-23.162116</td>\n",
       "      <td>-17.869011</td>\n",
       "      <td>-22.379250</td>\n",
       "      <td>-18.093172</td>\n",
       "      <td>-23.219985</td>\n",
       "      <td>0.066449</td>\n",
       "      <td>0.016671</td>\n",
       "      <td>0.859097</td>\n",
       "    </tr>\n",
       "  </tbody>\n",
       "</table>\n",
       "</div>"
      ],
      "text/plain": [
       "      x_true     y_true      x_rec      y_rec   x_rec_nn   y_rec_nn  \\\n",
       "0   2.626434 -17.960824   2.520230 -17.881634   2.535508 -18.200328   \n",
       "1  10.907536  -6.312277  10.920998  -6.360581  11.275090  -6.346362   \n",
       "2   2.726006  37.749081   2.760252  37.803454   3.125084  37.720948   \n",
       "3 -21.259064  -4.445240 -21.241941  -4.440406 -21.017482  -3.832932   \n",
       "4 -18.078293 -23.212466 -18.121656 -23.162116 -17.869011 -22.379250   \n",
       "\n",
       "   x_rec_zoom  y_rec_zoom     d_tpf  d_tpf_zoom      d_nn  \n",
       "0    2.613182  -17.943847  0.132478    0.021537  0.256184  \n",
       "1   10.925588   -6.296523  0.050145    0.023959  0.369130  \n",
       "2    2.712731   37.754252  0.064259    0.014246  0.400069  \n",
       "3  -21.278764   -4.454852  0.017792    0.021921  0.658242  \n",
       "4  -18.093172  -23.219985  0.066449    0.016671  0.859097  "
      ]
     },
     "execution_count": 48,
     "metadata": {},
     "output_type": "execute_result"
    }
   ],
   "source": [
    "data.head()"
   ]
  },
  {
   "cell_type": "code",
   "execution_count": null,
   "metadata": {
    "collapsed": true
   },
   "outputs": [],
   "source": []
  }
 ],
 "metadata": {
  "kernelspec": {
   "display_name": "Python 3",
   "language": "python",
   "name": "python3"
  },
  "language_info": {
   "codemirror_mode": {
    "name": "ipython",
    "version": 3
   },
   "file_extension": ".py",
   "mimetype": "text/x-python",
   "name": "python",
   "nbconvert_exporter": "python",
   "pygments_lexer": "ipython3",
   "version": "3.5.5"
  }
 },
 "nbformat": 4,
 "nbformat_minor": 1
}
