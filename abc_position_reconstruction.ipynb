{
 "cells": [
  {
   "cell_type": "markdown",
   "metadata": {},
   "source": [
    "## ABC applied to position reconstruction\n",
    "\n",
    "*Bart Pelssers, 26-02-2018*\n",
    "\n",
    "This notebook provides some ingredients for applying the ABC algorithm to position reconstruction, the most basic case. Just to test the framework.\n",
    "\n",
    "\n",
    "* Provides:\n",
    "  * prior mean\n",
    "  * forward model\n",
    "  * summary statistic"
   ]
  },
  {
   "cell_type": "code",
   "execution_count": 1,
   "metadata": {
    "collapsed": true
   },
   "outputs": [],
   "source": [
    "import numpy as np"
   ]
  },
  {
   "cell_type": "code",
   "execution_count": 2,
   "metadata": {
    "collapsed": false
   },
   "outputs": [],
   "source": [
    "# Using the XENON1T data processor\n",
    "from pax import utils\n",
    "from pax.configuration import load_configuration\n",
    "from pax.PatternFitter import PatternFitter\n",
    "from pax.plugins.io.WaveformSimulator import uniform_circle_rv"
   ]
  },
  {
   "cell_type": "code",
   "execution_count": 3,
   "metadata": {
    "collapsed": false
   },
   "outputs": [],
   "source": [
    "class PriorPosition():\n",
    "    \"\"\"Implements the calculation of the mean of a prior\n",
    "       given a pattern (either from data or from the forward model)\n",
    "    \"\"\"\n",
    "    \n",
    "    def __init__(self):\n",
    "        # Get some settings from the XENON1T detector configuration\n",
    "        config = load_configuration('XENON1T')\n",
    "        \n",
    "        # PMT positions\n",
    "        pmt_config = config['DEFAULT']['pmts']\n",
    "        \n",
    "        # List of dicts {'x': , 'y'}, which the position\n",
    "        self.positions = [pmt['position'] for pmt in pmt_config][:127]\n",
    "\n",
    "    def __call__(self, pattern):\n",
    "        # The id of the PMT that sees most light\n",
    "        max_pmt = np.argmax(pattern)\n",
    "        \n",
    "        # The position of that PMT\n",
    "        pos = self.positions[max_pmt]\n",
    "        \n",
    "        return pos['x'], pos['y']        \n",
    "        \n",
    "\n",
    "class Model():\n",
    "    \"\"\"Implements the forward model for ABC project.\n",
    "    \n",
    "       The forward model used here is the most basic test case.\n",
    "       It draws from the per-PMT S2 LCE maps to provide a\n",
    "       hitpattern for a given x,y. Assumes all top PMTs live.\n",
    "       Also the total number of detected photo-electrons needs to\n",
    "       be specified, this is set constant by default.\n",
    "    \"\"\"\n",
    "\n",
    "    def __init__(self):\n",
    "        # Get some settings from the XENON1T detector configuration\n",
    "        config = load_configuration('XENON1T')\n",
    "        \n",
    "        # The per-PMT S2 LCE maps (and zoom factor which is a technical detail)\n",
    "        lce_maps = config['WaveformSimulator']['s2_patterns_file']\n",
    "        lce_map_zoom = config['WaveformSimulator']['s2_patterns_zoom_factor']\n",
    "\n",
    "        # Simulate the right PMT response\n",
    "        qes = np.array(config['DEFAULT']['quantum_efficiencies'])\n",
    "        top_pmts = config['DEFAULT']['channels_top']\n",
    "        errors = config['DEFAULT']['relative_qe_error'] + config['DEFAULT']['relative_gain_error']\n",
    "\n",
    "        # Set up the PatternFitter which sample the LCE maps\n",
    "        self.pf = PatternFitter(filename=utils.data_file_name(lce_maps),\n",
    "                                zoom_factor=lce_map_zoom,\n",
    "                                adjust_to_qe=qes[top_pmts],\n",
    "                                default_errors=errors)\n",
    "\n",
    "    def __call__(self, x, y, n_obs = 500):\n",
    "        \"\"\"Returns a hitpattern of n_obs photo-electrons\n",
    "           for given x, y position.\n",
    "        \"\"\"\n",
    "        \n",
    "        return n_obs * self.pf.expected_pattern((x, y))\n",
    "\n",
    "\n",
    "class Generator():\n",
    "    \"\"\"Generates test hitpatterns by drawing from LCE maps (forward model)\"\"\"\n",
    "    \n",
    "    def __init__(self, model):\n",
    "        # Get some settings from the XENON1T detector configuration\n",
    "        config = load_configuration('XENON1T')\n",
    "        self.tpc_radius = config['DEFAULT']['tpc_radius']\n",
    "        \n",
    "        # Use the forward model also as generator for now\n",
    "        self.model = model\n",
    "    \n",
    "    def __call__(self):\n",
    "        return self.model(*uniform_circle_rv(self.tpc_radius))"
   ]
  },
  {
   "cell_type": "code",
   "execution_count": 4,
   "metadata": {
    "collapsed": false
   },
   "outputs": [],
   "source": [
    "# Setup the Models\n",
    "model = Model()\n",
    "prior_mean = PriorPosition()\n",
    "generator = Generator(model)"
   ]
  },
  {
   "cell_type": "code",
   "execution_count": 5,
   "metadata": {
    "collapsed": false
   },
   "outputs": [
    {
     "data": {
      "text/plain": [
       "array([  0.15633955,   0.15464602,   0.16615907,   0.1601266 ,\n",
       "         0.1911791 ,   0.15663201,   0.16504845,   0.22697035,\n",
       "         0.21775131,   0.14744403,   0.13264371,   0.23162152,\n",
       "         0.24154202,   0.31842618,   0.34970953,   0.47841076,\n",
       "         0.67324611,   1.15415488,   2.37960812,   7.92693444,\n",
       "        35.26476108,  88.01112444,  36.1758986 ,   7.99371774,\n",
       "         2.50864174,   1.17846547,   0.62941435,   0.51293971,\n",
       "         0.37396609,   0.30920333,   0.21736473,   0.16338822,\n",
       "         0.22662778,   0.2360823 ,   0.18079225,   0.20456755,\n",
       "         0.37465167,   0.41545029,   0.44309296,   0.40460324,\n",
       "         0.36882424,   0.46817632,   0.45374108,   0.42531227,\n",
       "         0.3603001 ,   0.6037985 ,   0.56515218,   0.74406745,\n",
       "         0.89585861,   1.13117147,   1.62438629,   3.20540593,\n",
       "        13.57613609,  77.22784919,  79.95030692,  14.51534531,\n",
       "         3.56995686,   1.6536226 ,   0.93505878,   0.80189658,\n",
       "         0.59817981,   0.49428864,   0.46484417,   0.37605877,\n",
       "         0.40159071,   0.36955903,   0.42185879,   0.47740688,\n",
       "         0.45659902,   0.57174146,   0.51171115,   0.52282812,\n",
       "         0.4527066 ,   0.49806391,   0.62017048,   0.75119239,\n",
       "         0.94543875,   1.29131117,   3.25189994,   9.79638917,\n",
       "        23.23281854,  10.3861693 ,   3.18488628,   1.38879755,\n",
       "         0.90299228,   0.82159501,   0.6454338 ,   0.60893335,\n",
       "         0.58442211,   0.45862306,   0.57845208,   0.50776215,\n",
       "         0.54485636,   0.41692031,   0.52337159,   0.58756722,\n",
       "         0.74853267,   0.83253193,   1.2961678 ,   2.09250977,\n",
       "         4.20468801,   4.2496975 ,   2.23526074,   1.27337622,\n",
       "         0.89373972,   0.79658521,   0.67197612,   0.58312179,\n",
       "         0.59840485,   0.60427534,   0.5582661 ,   0.67612449,\n",
       "         0.6944953 ,   1.05900025,   1.37999962,   1.97362388,\n",
       "         1.54235709,   0.91177866,   0.73213003,   0.56831834,\n",
       "         0.59126467,   0.65133973,   0.87825864,   0.97215212,\n",
       "         0.9908032 ,   0.81072527,   0.7513409 ])"
      ]
     },
     "execution_count": 5,
     "metadata": {},
     "output_type": "execute_result"
    }
   ],
   "source": [
    "# Example pattern from some unknown x,y position\n",
    "generator()"
   ]
  },
  {
   "cell_type": "code",
   "execution_count": 6,
   "metadata": {
    "collapsed": false
   },
   "outputs": [
    {
     "name": "stdout",
     "output_type": "stream",
     "text": [
      "Length of pattern: 127, Sum of pattern: 500.00\n",
      "[  0.15557719   0.19895666   0.24922448   0.2724799    0.27603412\n",
      "   0.32449659   0.46050632   0.42301344   0.70506899   1.03060055\n",
      "   1.49578963   2.37547693   3.52593554   3.95085483   3.86295943\n",
      "   2.53731881   1.74439776   1.23509644   0.79510001   0.55862571\n",
      "   0.38564723   0.36349537   0.26005279   0.29975047   0.26727978\n",
      "   0.20429186   0.16533915   0.18444405   0.20685526   0.18781974\n",
      "   0.12732736   0.19919409   0.17400086   0.21413046   0.2363081\n",
      "   0.19032239   0.42978286   0.45080137   0.43135062   0.62552338\n",
      "   0.71541464   0.90842272   1.01409495   1.32520928   2.25855376\n",
      "   4.58073379   9.29216553  13.23124765   9.35138085   4.50353515\n",
      "   2.12894642   1.33947176   0.96438981   0.7805329    0.65992508\n",
      "   0.72478981   0.60333853   0.64092246   0.43065135   0.4776672\n",
      "   0.42722602   0.47022137   0.48347138   0.42317722   0.46218003\n",
      "   0.41164114   0.5434028    0.62935448   0.57891689   0.73046393\n",
      "   1.00482359   1.44051276   2.82032086   9.48582028  42.77481076\n",
      "  73.98752745  22.15800888   4.55795975   2.00682113   1.21986769\n",
      "   0.88199342   0.80840704   0.64715839   0.59661833   0.54728476\n",
      "   0.54761472   0.49064898   0.4952057    0.4817794    0.55180015\n",
      "   0.70935065   0.74931743   0.78378943   1.14321406   2.3902517\n",
      "   9.9705529   64.08999221  80.54049478  13.15806738   2.92349346\n",
      "   1.47257329   0.78006564   0.75800636   0.58620369   0.5619902\n",
      "   0.59252039   0.5813888    0.62083872   0.85162562   0.9060132\n",
      "   1.58775961   4.37221197  16.72333023  13.36108932   3.35672622\n",
      "   1.31514309   0.95274319   0.67270515   0.66997832   0.5738309\n",
      "   0.88518236   1.59710785   3.71305405   2.29623793   1.04346429\n",
      "   0.88384587   1.44817626]\n"
     ]
    }
   ],
   "source": [
    "# Example pattern from x=24, y=-12\n",
    "\n",
    "# The range of x and y is [-47.884375 cm, -47.884375 cm]\n",
    "# But x**2 + y**2 < 47.884375**2\n",
    "# Otherwise m() will raise and exception\n",
    "\n",
    "pattern = model(24, -12)\n",
    "\n",
    "print(\"Length of pattern: %d, Sum of pattern: %.2f\" % (len(pattern), pattern.sum()))\n",
    "print(pattern)"
   ]
  },
  {
   "cell_type": "code",
   "execution_count": 7,
   "metadata": {
    "collapsed": false
   },
   "outputs": [
    {
     "data": {
      "text/plain": [
       "(19.536776256292445, -13.679798006972462)"
      ]
     },
     "execution_count": 7,
     "metadata": {},
     "output_type": "execute_result"
    }
   ],
   "source": [
    "# If using a 2D Normal prior this would be a good guess for the mean (x,y) of that prior.\n",
    "prior_mean(pattern)"
   ]
  },
  {
   "cell_type": "markdown",
   "metadata": {
    "collapsed": true
   },
   "source": [
    "# Generate hitpatterns\n",
    "\n",
    "Update 22-03-2018\n",
    "\n",
    "Generate hitpatterns from true x,y position to reconstruct with Pax and compare to ABC method"
   ]
  },
  {
   "cell_type": "code",
   "execution_count": 8,
   "metadata": {
    "collapsed": true
   },
   "outputs": [],
   "source": [
    "import pandas as pd\n",
    "import matplotlib\n",
    "import matplotlib.pyplot as plt\n",
    "\n",
    "%matplotlib inline"
   ]
  },
  {
   "cell_type": "code",
   "execution_count": 21,
   "metadata": {
    "collapsed": false
   },
   "outputs": [],
   "source": [
    "# Read true positions list\n",
    "filename = 'truepos'  # Text file with x_y per row\n",
    "\n",
    "true_pos = pd.read_csv(filename, header=None, names=['x_true', 'y_true'], sep=' ')"
   ]
  },
  {
   "cell_type": "code",
   "execution_count": 22,
   "metadata": {
    "collapsed": false
   },
   "outputs": [
    {
     "data": {
      "text/html": [
       "<div>\n",
       "<table border=\"1\" class=\"dataframe\">\n",
       "  <thead>\n",
       "    <tr style=\"text-align: right;\">\n",
       "      <th></th>\n",
       "      <th>x_true</th>\n",
       "      <th>y_true</th>\n",
       "    </tr>\n",
       "  </thead>\n",
       "  <tbody>\n",
       "    <tr>\n",
       "      <th>0</th>\n",
       "      <td>2.626434</td>\n",
       "      <td>-17.960824</td>\n",
       "    </tr>\n",
       "    <tr>\n",
       "      <th>1</th>\n",
       "      <td>10.907536</td>\n",
       "      <td>-6.312277</td>\n",
       "    </tr>\n",
       "    <tr>\n",
       "      <th>2</th>\n",
       "      <td>2.726006</td>\n",
       "      <td>37.749081</td>\n",
       "    </tr>\n",
       "    <tr>\n",
       "      <th>3</th>\n",
       "      <td>-21.259064</td>\n",
       "      <td>-4.445240</td>\n",
       "    </tr>\n",
       "    <tr>\n",
       "      <th>4</th>\n",
       "      <td>-18.078293</td>\n",
       "      <td>-23.212466</td>\n",
       "    </tr>\n",
       "  </tbody>\n",
       "</table>\n",
       "</div>"
      ],
      "text/plain": [
       "      x_true     y_true\n",
       "0   2.626434 -17.960824\n",
       "1  10.907536  -6.312277\n",
       "2   2.726006  37.749081\n",
       "3 -21.259064  -4.445240\n",
       "4 -18.078293 -23.212466"
      ]
     },
     "execution_count": 22,
     "metadata": {},
     "output_type": "execute_result"
    }
   ],
   "source": [
    "true_pos.head()"
   ]
  },
  {
   "cell_type": "code",
   "execution_count": 23,
   "metadata": {
    "collapsed": true
   },
   "outputs": [],
   "source": [
    "# Add the hitpatterns based on the simple model\n",
    "def add_pattern(row):\n",
    "    row['pattern'] = model(row['x_true'], row['y_true'])\n",
    "    return row"
   ]
  },
  {
   "cell_type": "code",
   "execution_count": 24,
   "metadata": {
    "collapsed": false
   },
   "outputs": [],
   "source": [
    "true_pos = true_pos.apply(add_pattern, axis=1)"
   ]
  },
  {
   "cell_type": "code",
   "execution_count": 25,
   "metadata": {
    "collapsed": false
   },
   "outputs": [
    {
     "data": {
      "text/html": [
       "<div>\n",
       "<table border=\"1\" class=\"dataframe\">\n",
       "  <thead>\n",
       "    <tr style=\"text-align: right;\">\n",
       "      <th></th>\n",
       "      <th>x_true</th>\n",
       "      <th>y_true</th>\n",
       "      <th>pattern</th>\n",
       "    </tr>\n",
       "  </thead>\n",
       "  <tbody>\n",
       "    <tr>\n",
       "      <th>0</th>\n",
       "      <td>2.626434</td>\n",
       "      <td>-17.960824</td>\n",
       "      <td>[0.148415952009, 0.143971978566, 0.13988137447...</td>\n",
       "    </tr>\n",
       "    <tr>\n",
       "      <th>1</th>\n",
       "      <td>10.907536</td>\n",
       "      <td>-6.312277</td>\n",
       "      <td>[0.277220867278, 0.186006882505, 0.21226202264...</td>\n",
       "    </tr>\n",
       "    <tr>\n",
       "      <th>2</th>\n",
       "      <td>2.726006</td>\n",
       "      <td>37.749081</td>\n",
       "      <td>[7.06684598221, 19.2363924923, 30.5536260998, ...</td>\n",
       "    </tr>\n",
       "    <tr>\n",
       "      <th>3</th>\n",
       "      <td>-21.259064</td>\n",
       "      <td>-4.445240</td>\n",
       "      <td>[0.224506188816, 0.279373417894, 0.19070476847...</td>\n",
       "    </tr>\n",
       "    <tr>\n",
       "      <th>4</th>\n",
       "      <td>-18.078293</td>\n",
       "      <td>-23.212466</td>\n",
       "      <td>[0.197403664392, 0.16818957719, 0.115555148355...</td>\n",
       "    </tr>\n",
       "  </tbody>\n",
       "</table>\n",
       "</div>"
      ],
      "text/plain": [
       "      x_true     y_true                                            pattern\n",
       "0   2.626434 -17.960824  [0.148415952009, 0.143971978566, 0.13988137447...\n",
       "1  10.907536  -6.312277  [0.277220867278, 0.186006882505, 0.21226202264...\n",
       "2   2.726006  37.749081  [7.06684598221, 19.2363924923, 30.5536260998, ...\n",
       "3 -21.259064  -4.445240  [0.224506188816, 0.279373417894, 0.19070476847...\n",
       "4 -18.078293 -23.212466  [0.197403664392, 0.16818957719, 0.115555148355..."
      ]
     },
     "execution_count": 25,
     "metadata": {},
     "output_type": "execute_result"
    }
   ],
   "source": [
    "true_pos.head()"
   ]
  },
  {
   "cell_type": "code",
   "execution_count": 37,
   "metadata": {
    "collapsed": false
   },
   "outputs": [],
   "source": [
    "# Store patterns for reconstruction\n",
    "np.savez('simple_lce_model_patterns', hitpattern = true_pos['pattern'].values)"
   ]
  },
  {
   "cell_type": "code",
   "execution_count": 26,
   "metadata": {
    "collapsed": true
   },
   "outputs": [],
   "source": [
    "# Load reconstructed patterns\n",
    "reconstructed = np.load(\"simple_lce_model_patterns_rec.npz\")\n",
    "reconstructed_zoom = np.load(\"simple_lce_model_patterns_rec_zoom10.npz\")"
   ]
  },
  {
   "cell_type": "code",
   "execution_count": 27,
   "metadata": {
    "collapsed": true
   },
   "outputs": [],
   "source": [
    "true_pos['x_rec'] = reconstructed['x_tpf_qe']\n",
    "true_pos['y_rec'] = reconstructed['y_tpf_qe']\n",
    "true_pos['x_rec_nn'] = reconstructed['x_nn_qe']\n",
    "true_pos['y_rec_nn'] = reconstructed['y_nn_qe']\n",
    "\n",
    "true_pos['x_rec_zoom'] = reconstructed_zoom['x_tpf_qe']\n",
    "true_pos['y_rec_zoom'] = reconstructed_zoom['y_tpf_qe']"
   ]
  },
  {
   "cell_type": "code",
   "execution_count": 28,
   "metadata": {
    "collapsed": false
   },
   "outputs": [],
   "source": [
    "true_pos['d_tpf'] = np.sqrt((true_pos['x_true'] - true_pos['x_rec'])**2 + (true_pos['y_true'] - true_pos['y_rec'])**2)\n",
    "true_pos['d_tpf_zoom'] = np.sqrt((true_pos['x_true'] - true_pos['x_rec_zoom'])**2 + (true_pos['y_true'] - true_pos['y_rec_zoom'])**2)\n",
    "true_pos['d_nn'] = np.sqrt((true_pos['x_true'] - true_pos['x_rec_nn'])**2 + (true_pos['y_true'] - true_pos['y_rec_nn'])**2)"
   ]
  },
  {
   "cell_type": "code",
   "execution_count": 29,
   "metadata": {
    "collapsed": false
   },
   "outputs": [
    {
     "data": {
      "text/html": [
       "<div>\n",
       "<table border=\"1\" class=\"dataframe\">\n",
       "  <thead>\n",
       "    <tr style=\"text-align: right;\">\n",
       "      <th></th>\n",
       "      <th>x_true</th>\n",
       "      <th>y_true</th>\n",
       "      <th>pattern</th>\n",
       "      <th>x_rec</th>\n",
       "      <th>y_rec</th>\n",
       "      <th>x_rec_nn</th>\n",
       "      <th>y_rec_nn</th>\n",
       "      <th>x_rec_zoom</th>\n",
       "      <th>y_rec_zoom</th>\n",
       "      <th>d_tpf</th>\n",
       "      <th>d_tpf_zoom</th>\n",
       "      <th>d_nn</th>\n",
       "    </tr>\n",
       "  </thead>\n",
       "  <tbody>\n",
       "    <tr>\n",
       "      <th>0</th>\n",
       "      <td>2.626434</td>\n",
       "      <td>-17.960824</td>\n",
       "      <td>[0.148415952009, 0.143971978566, 0.13988137447...</td>\n",
       "      <td>2.520230</td>\n",
       "      <td>-17.881634</td>\n",
       "      <td>2.535508</td>\n",
       "      <td>-18.200328</td>\n",
       "      <td>2.613182</td>\n",
       "      <td>-17.943847</td>\n",
       "      <td>0.132478</td>\n",
       "      <td>0.021537</td>\n",
       "      <td>0.256184</td>\n",
       "    </tr>\n",
       "    <tr>\n",
       "      <th>1</th>\n",
       "      <td>10.907536</td>\n",
       "      <td>-6.312277</td>\n",
       "      <td>[0.277220867278, 0.186006882505, 0.21226202264...</td>\n",
       "      <td>10.920998</td>\n",
       "      <td>-6.360581</td>\n",
       "      <td>11.275090</td>\n",
       "      <td>-6.346362</td>\n",
       "      <td>10.975363</td>\n",
       "      <td>-6.445848</td>\n",
       "      <td>0.050145</td>\n",
       "      <td>0.149806</td>\n",
       "      <td>0.369130</td>\n",
       "    </tr>\n",
       "    <tr>\n",
       "      <th>2</th>\n",
       "      <td>2.726006</td>\n",
       "      <td>37.749081</td>\n",
       "      <td>[7.06684598221, 19.2363924923, 30.5536260998, ...</td>\n",
       "      <td>2.760252</td>\n",
       "      <td>37.803454</td>\n",
       "      <td>3.125084</td>\n",
       "      <td>37.720948</td>\n",
       "      <td>2.613182</td>\n",
       "      <td>37.903577</td>\n",
       "      <td>0.064259</td>\n",
       "      <td>0.191306</td>\n",
       "      <td>0.400069</td>\n",
       "    </tr>\n",
       "    <tr>\n",
       "      <th>3</th>\n",
       "      <td>-21.259064</td>\n",
       "      <td>-4.445240</td>\n",
       "      <td>[0.224506188816, 0.279373417894, 0.19070476847...</td>\n",
       "      <td>-21.241941</td>\n",
       "      <td>-4.440406</td>\n",
       "      <td>-21.017482</td>\n",
       "      <td>-3.832932</td>\n",
       "      <td>-21.029890</td>\n",
       "      <td>-4.454852</td>\n",
       "      <td>0.017792</td>\n",
       "      <td>0.229375</td>\n",
       "      <td>0.658242</td>\n",
       "    </tr>\n",
       "    <tr>\n",
       "      <th>4</th>\n",
       "      <td>-18.078293</td>\n",
       "      <td>-23.212466</td>\n",
       "      <td>[0.197403664392, 0.16818957719, 0.115555148355...</td>\n",
       "      <td>-18.121656</td>\n",
       "      <td>-23.162116</td>\n",
       "      <td>-17.869011</td>\n",
       "      <td>-22.379250</td>\n",
       "      <td>-17.993622</td>\n",
       "      <td>-23.020885</td>\n",
       "      <td>0.066449</td>\n",
       "      <td>0.209457</td>\n",
       "      <td>0.859097</td>\n",
       "    </tr>\n",
       "  </tbody>\n",
       "</table>\n",
       "</div>"
      ],
      "text/plain": [
       "      x_true     y_true                                            pattern  \\\n",
       "0   2.626434 -17.960824  [0.148415952009, 0.143971978566, 0.13988137447...   \n",
       "1  10.907536  -6.312277  [0.277220867278, 0.186006882505, 0.21226202264...   \n",
       "2   2.726006  37.749081  [7.06684598221, 19.2363924923, 30.5536260998, ...   \n",
       "3 -21.259064  -4.445240  [0.224506188816, 0.279373417894, 0.19070476847...   \n",
       "4 -18.078293 -23.212466  [0.197403664392, 0.16818957719, 0.115555148355...   \n",
       "\n",
       "       x_rec      y_rec   x_rec_nn   y_rec_nn  x_rec_zoom  y_rec_zoom  \\\n",
       "0   2.520230 -17.881634   2.535508 -18.200328    2.613182  -17.943847   \n",
       "1  10.920998  -6.360581  11.275090  -6.346362   10.975363   -6.445848   \n",
       "2   2.760252  37.803454   3.125084  37.720948    2.613182   37.903577   \n",
       "3 -21.241941  -4.440406 -21.017482  -3.832932  -21.029890   -4.454852   \n",
       "4 -18.121656 -23.162116 -17.869011 -22.379250  -17.993622  -23.020885   \n",
       "\n",
       "      d_tpf  d_tpf_zoom      d_nn  \n",
       "0  0.132478    0.021537  0.256184  \n",
       "1  0.050145    0.149806  0.369130  \n",
       "2  0.064259    0.191306  0.400069  \n",
       "3  0.017792    0.229375  0.658242  \n",
       "4  0.066449    0.209457  0.859097  "
      ]
     },
     "execution_count": 29,
     "metadata": {},
     "output_type": "execute_result"
    }
   ],
   "source": [
    "true_pos.head()"
   ]
  },
  {
   "cell_type": "code",
   "execution_count": 30,
   "metadata": {
    "collapsed": false
   },
   "outputs": [
    {
     "data": {
      "image/png": "[encoded data removed]",
      "text/plain": [
       "<matplotlib.figure.Figure at 0x7fb836b79860>"
      ]
     },
     "metadata": {},
     "output_type": "display_data"
    }
   ],
   "source": [
    "# Check if postions make sense\n",
    "plt.rcParams['font.size'] = 16\n",
    "d_range = 1\n",
    "plt.figure(figsize=(8,6))\n",
    "plt.hist(true_pos['d_tpf'], bins=100, range=(0, d_range), histtype='step', label='TPF')\n",
    "plt.hist(true_pos['d_tpf_zoom'], bins=100, range=(0, d_range), histtype='step', label='TPF zoom')\n",
    "plt.hist(true_pos['d_nn'], bins=100, range=(0, d_range), histtype='step', label='NN')\n",
    "plt.axvline(1/8, color='red', linestyle='--', label='LCE binning')\n",
    "plt.xlim(0, d_range)\n",
    "plt.xlabel('Distance [cm]')\n",
    "plt.ylabel('counts')\n",
    "plt.legend()\n",
    "#plt.savefig('d_tpf_nn_simple.png', dpi=150)\n",
    "plt.show()"
   ]
  },
  {
   "cell_type": "code",
   "execution_count": 31,
   "metadata": {
    "collapsed": true
   },
   "outputs": [],
   "source": [
    "# Save the positions (drop the patterns since these take up a lot of space)\n",
    "true_pos.drop('pattern', inplace=True, axis=1)\n",
    "\n",
    "true_pos.to_hdf('reconstructed_postions_simple.hdf', key='pos')"
   ]
  },
  {
   "cell_type": "code",
   "execution_count": 32,
   "metadata": {
    "collapsed": true
   },
   "outputs": [],
   "source": [
    "# How to load this back into python\n",
    "data = pd.read_hdf('reconstructed_postions_simple.hdf', key='pos')"
   ]
  },
  {
   "cell_type": "code",
   "execution_count": 33,
   "metadata": {
    "collapsed": false
   },
   "outputs": [
    {
     "data": {
      "text/html": [
       "<div>\n",
       "<table border=\"1\" class=\"dataframe\">\n",
       "  <thead>\n",
       "    <tr style=\"text-align: right;\">\n",
       "      <th></th>\n",
       "      <th>x_true</th>\n",
       "      <th>y_true</th>\n",
       "      <th>x_rec</th>\n",
       "      <th>y_rec</th>\n",
       "      <th>x_rec_nn</th>\n",
       "      <th>y_rec_nn</th>\n",
       "      <th>x_rec_zoom</th>\n",
       "      <th>y_rec_zoom</th>\n",
       "      <th>d_tpf</th>\n",
       "      <th>d_tpf_zoom</th>\n",
       "      <th>d_nn</th>\n",
       "    </tr>\n",
       "  </thead>\n",
       "  <tbody>\n",
       "    <tr>\n",
       "      <th>0</th>\n",
       "      <td>2.626434</td>\n",
       "      <td>-17.960824</td>\n",
       "      <td>2.520230</td>\n",
       "      <td>-17.881634</td>\n",
       "      <td>2.535508</td>\n",
       "      <td>-18.200328</td>\n",
       "      <td>2.613182</td>\n",
       "      <td>-17.943847</td>\n",
       "      <td>0.132478</td>\n",
       "      <td>0.021537</td>\n",
       "      <td>0.256184</td>\n",
       "    </tr>\n",
       "    <tr>\n",
       "      <th>1</th>\n",
       "      <td>10.907536</td>\n",
       "      <td>-6.312277</td>\n",
       "      <td>10.920998</td>\n",
       "      <td>-6.360581</td>\n",
       "      <td>11.275090</td>\n",
       "      <td>-6.346362</td>\n",
       "      <td>10.975363</td>\n",
       "      <td>-6.445848</td>\n",
       "      <td>0.050145</td>\n",
       "      <td>0.149806</td>\n",
       "      <td>0.369130</td>\n",
       "    </tr>\n",
       "    <tr>\n",
       "      <th>2</th>\n",
       "      <td>2.726006</td>\n",
       "      <td>37.749081</td>\n",
       "      <td>2.760252</td>\n",
       "      <td>37.803454</td>\n",
       "      <td>3.125084</td>\n",
       "      <td>37.720948</td>\n",
       "      <td>2.613182</td>\n",
       "      <td>37.903577</td>\n",
       "      <td>0.064259</td>\n",
       "      <td>0.191306</td>\n",
       "      <td>0.400069</td>\n",
       "    </tr>\n",
       "    <tr>\n",
       "      <th>3</th>\n",
       "      <td>-21.259064</td>\n",
       "      <td>-4.445240</td>\n",
       "      <td>-21.241941</td>\n",
       "      <td>-4.440406</td>\n",
       "      <td>-21.017482</td>\n",
       "      <td>-3.832932</td>\n",
       "      <td>-21.029890</td>\n",
       "      <td>-4.454852</td>\n",
       "      <td>0.017792</td>\n",
       "      <td>0.229375</td>\n",
       "      <td>0.658242</td>\n",
       "    </tr>\n",
       "    <tr>\n",
       "      <th>4</th>\n",
       "      <td>-18.078293</td>\n",
       "      <td>-23.212466</td>\n",
       "      <td>-18.121656</td>\n",
       "      <td>-23.162116</td>\n",
       "      <td>-17.869011</td>\n",
       "      <td>-22.379250</td>\n",
       "      <td>-17.993622</td>\n",
       "      <td>-23.020885</td>\n",
       "      <td>0.066449</td>\n",
       "      <td>0.209457</td>\n",
       "      <td>0.859097</td>\n",
       "    </tr>\n",
       "  </tbody>\n",
       "</table>\n",
       "</div>"
      ],
      "text/plain": [
       "      x_true     y_true      x_rec      y_rec   x_rec_nn   y_rec_nn  \\\n",
       "0   2.626434 -17.960824   2.520230 -17.881634   2.535508 -18.200328   \n",
       "1  10.907536  -6.312277  10.920998  -6.360581  11.275090  -6.346362   \n",
       "2   2.726006  37.749081   2.760252  37.803454   3.125084  37.720948   \n",
       "3 -21.259064  -4.445240 -21.241941  -4.440406 -21.017482  -3.832932   \n",
       "4 -18.078293 -23.212466 -18.121656 -23.162116 -17.869011 -22.379250   \n",
       "\n",
       "   x_rec_zoom  y_rec_zoom     d_tpf  d_tpf_zoom      d_nn  \n",
       "0    2.613182  -17.943847  0.132478    0.021537  0.256184  \n",
       "1   10.975363   -6.445848  0.050145    0.149806  0.369130  \n",
       "2    2.613182   37.903577  0.064259    0.191306  0.400069  \n",
       "3  -21.029890   -4.454852  0.017792    0.229375  0.658242  \n",
       "4  -17.993622  -23.020885  0.066449    0.209457  0.859097  "
      ]
     },
     "execution_count": 33,
     "metadata": {},
     "output_type": "execute_result"
    }
   ],
   "source": [
    "data.head()"
   ]
  },
  {
   "cell_type": "code",
   "execution_count": null,
   "metadata": {
    "collapsed": true
   },
   "outputs": [],
   "source": []
  }
 ],
 "metadata": {
  "kernelspec": {
   "display_name": "Python 3",
   "language": "python",
   "name": "python3"
  },
  "language_info": {
   "codemirror_mode": {
    "name": "ipython",
    "version": 3
   },
   "file_extension": ".py",
   "mimetype": "text/x-python",
   "name": "python",
   "nbconvert_exporter": "python",
   "pygments_lexer": "ipython3",
   "version": "3.4.5"
  }
 },
 "nbformat": 4,
 "nbformat_minor": 0
}
