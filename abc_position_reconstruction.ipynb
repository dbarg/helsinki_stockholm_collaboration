{
 "cells": [
  {
   "cell_type": "markdown",
   "metadata": {},
   "source": [
    "## ABC applied to position reconstruction\n",
    "\n",
    "*Bart Pelssers, 26-02-2018, most recent update 20-04-2018*\n",
    "\n",
    "This notebook provides some ingredients for applying the ABC algorithm to position reconstruction, the most basic case. Just to test the framework.\n",
    "\n",
    "\n",
    "* Provides:\n",
    "  * prior mean\n",
    "  * forward model\n",
    "  * summary statistic"
   ]
  },
  {
   "cell_type": "code",
   "execution_count": 1,
   "metadata": {},
   "outputs": [],
   "source": [
    "import numpy as np"
   ]
  },
  {
   "cell_type": "code",
   "execution_count": 2,
   "metadata": {},
   "outputs": [
    {
     "name": "stdout",
     "output_type": "stream",
     "text": [
      "You don't have ROOT or root_pandas, root truth file output is disabled\n"
     ]
    }
   ],
   "source": [
    "from abc_reconstruction.simpleModel import SimpleModel\n",
    "from abc_reconstruction.utils import PriorPosition, Generator"
   ]
  },
  {
   "cell_type": "code",
   "execution_count": 3,
   "metadata": {},
   "outputs": [],
   "source": [
    "# Setup the Models\n",
    "model = SimpleModel(zoom_multiplier = 2)\n",
    "prior_mean = PriorPosition()\n",
    "generator = Generator(model)"
   ]
  },
  {
   "cell_type": "code",
   "execution_count": 4,
   "metadata": {},
   "outputs": [
    {
     "data": {
      "text/plain": [
       "array([1.66023630e-01, 1.94688456e-01, 1.01401818e-01, 1.65360130e-01,\n",
       "       1.80959371e-01, 1.98965906e-01, 2.90550912e-01, 3.31132140e-01,\n",
       "       4.83175083e-01, 5.57517478e-01, 7.99725127e-01, 1.44751904e+00,\n",
       "       2.29847402e+00, 4.85806948e+00, 8.86930353e+00, 8.33175536e+00,\n",
       "       5.66355914e+00, 2.95970207e+00, 1.64036337e+00, 9.11756994e-01,\n",
       "       6.35570696e-01, 4.54212023e-01, 3.72855490e-01, 3.27340466e-01,\n",
       "       3.17350506e-01, 3.15441578e-01, 2.65184856e-01, 2.53105456e-01,\n",
       "       2.33934205e-01, 2.20392815e-01, 1.48935335e-01, 1.68455769e-01,\n",
       "       2.01879408e-01, 1.50054404e-01, 1.84190764e-01, 1.85843403e-01,\n",
       "       3.04588151e-01, 4.05769483e-01, 4.11044637e-01, 5.35355528e-01,\n",
       "       5.25804906e-01, 6.88819582e-01, 8.30853726e-01, 9.55290125e-01,\n",
       "       1.25453079e+00, 2.05340417e+00, 5.15361332e+00, 1.68218841e+01,\n",
       "       3.94087620e+01, 2.51735755e+01, 7.32323683e+00, 2.71505759e+00,\n",
       "       1.50279733e+00, 1.05923515e+00, 8.59959310e-01, 7.51400496e-01,\n",
       "       6.89373248e-01, 5.23371722e-01, 5.53387537e-01, 4.94086057e-01,\n",
       "       4.37941750e-01, 4.20211023e-01, 3.69019108e-01, 3.76715902e-01,\n",
       "       3.35995665e-01, 3.76654553e-01, 5.22462927e-01, 5.05767324e-01,\n",
       "       5.94705349e-01, 6.46666456e-01, 8.00871311e-01, 9.00748837e-01,\n",
       "       1.37966746e+00, 2.47765323e+00, 9.59554357e+00, 6.14754708e+01,\n",
       "       1.12884159e+02, 2.01287320e+01, 4.26853807e+00, 1.80864795e+00,\n",
       "       1.11650569e+00, 8.90617432e-01, 7.68620631e-01, 4.89694877e-01,\n",
       "       4.98785032e-01, 4.96692735e-01, 5.32478320e-01, 5.30452571e-01,\n",
       "       5.03562106e-01, 5.51344850e-01, 6.01485617e-01, 6.13715431e-01,\n",
       "       6.56099112e-01, 8.16352182e-01, 1.10022545e+00, 2.28377893e+00,\n",
       "       8.49297581e+00, 3.76887902e+01, 2.36193528e+01, 4.62733786e+00,\n",
       "       1.72395808e+00, 9.62355207e-01, 8.29812653e-01, 5.89017227e-01,\n",
       "       4.96345877e-01, 5.50132810e-01, 6.18201637e-01, 5.29394393e-01,\n",
       "       6.89006637e-01, 7.30070380e-01, 9.91895773e-01, 1.42906674e+00,\n",
       "       4.15396935e+00, 6.79561644e+00, 3.23865140e+00, 1.38069912e+00,\n",
       "       1.02953325e+00, 5.95156073e-01, 5.59540222e-01, 6.91337509e-01,\n",
       "       8.31876574e-01, 1.07563465e+00, 1.88744847e+00, 1.77251990e+00,\n",
       "       9.68427479e-01, 7.65510588e-01, 1.04982991e+00])"
      ]
     },
     "execution_count": 4,
     "metadata": {},
     "output_type": "execute_result"
    }
   ],
   "source": [
    "# Example pattern from some unknown x,y position\n",
    "generator()"
   ]
  },
  {
   "cell_type": "code",
   "execution_count": 5,
   "metadata": {},
   "outputs": [
    {
     "name": "stdout",
     "output_type": "stream",
     "text": [
      "Length of pattern: 127, Sum of pattern: 500.00\n",
      "[ 0.18793642  0.21651903  0.22673361  0.29116712  0.31436551  0.34139665\n",
      "  0.47787565  0.4376744   0.70530862  1.02710466  1.52814229  2.35225266\n",
      "  3.47081934  3.93317782  3.74522279  2.45160037  1.7220481   1.14250081\n",
      "  0.77768419  0.58663653  0.37490697  0.35539394  0.26697703  0.29348062\n",
      "  0.27341068  0.21559755  0.17971024  0.16476303  0.18934091  0.181298\n",
      "  0.1313543   0.20655253  0.17562329  0.2185811   0.21257346  0.19843043\n",
      "  0.42545679  0.41170131  0.44307364  0.60027959  0.76098638  0.94056818\n",
      "  0.98891512  1.32868918  2.26775817  4.62978946  9.17218188 12.79300853\n",
      "  8.91419385  4.45881458  2.14896411  1.34355701  0.97716992  0.7989524\n",
      "  0.67218073  0.70057792  0.61829806  0.62287648  0.40531919  0.47344883\n",
      "  0.42686244  0.46010133  0.49933762  0.4395319   0.45757344  0.40953152\n",
      "  0.56436196  0.61799416  0.63366518  0.73284476  0.94486058  1.51142451\n",
      "  2.80133576  9.65937696 42.8680866  72.03385217 21.4050621   4.45652071\n",
      "  2.06705866  1.21005688  0.91197716  0.79879559  0.72122959  0.55029875\n",
      "  0.54527324  0.55807644  0.48768544  0.53614601  0.52213036  0.48479457\n",
      "  0.70789984  0.72756424  0.79488071  1.15656298  2.49156895 10.11914274\n",
      " 65.93835829 80.66602442 13.15791692  2.91157689  1.45721936  0.77202022\n",
      "  0.79647265  0.58593873  0.58486073  0.63503377  0.57604411  0.64453091\n",
      "  0.81346575  0.95054991  1.57806746  4.45897848 17.38471406 13.57679816\n",
      "  3.41508228  1.37444605  0.89933929  0.69503182  0.70731702  0.58812547\n",
      "  0.92332049  1.64884761  3.75882081  2.35206314  1.01604462  0.83634036\n",
      "  1.51226246]\n"
     ]
    }
   ],
   "source": [
    "# Example pattern from x=24, y=-12\n",
    "\n",
    "# The range of x and y is [-47.884375 cm, -47.884375 cm]\n",
    "# But x**2 + y**2 < 47.884375**2\n",
    "# Otherwise model() will raise and exception\n",
    "\n",
    "pattern = model(24, -12)\n",
    "\n",
    "print(\"Length of pattern: %d, Sum of pattern: %.2f\" % (len(pattern), pattern.sum()))\n",
    "print(pattern)"
   ]
  },
  {
   "cell_type": "code",
   "execution_count": 6,
   "metadata": {},
   "outputs": [
    {
     "data": {
      "text/plain": [
       "(19.536776256292445, -13.679798006972462)"
      ]
     },
     "execution_count": 6,
     "metadata": {},
     "output_type": "execute_result"
    }
   ],
   "source": [
    "# If using a 2D Normal prior this would be a good guess for the mean (x,y) of that prior.\n",
    "prior_mean(pattern)"
   ]
  },
  {
   "cell_type": "markdown",
   "metadata": {
    "collapsed": true
   },
   "source": [
    "# Generate hitpatterns\n",
    "\n",
    "Update 22-03-2018\n",
    "\n",
    "Generate hitpatterns from true x,y position to reconstruct with Pax and compare to ABC method"
   ]
  },
  {
   "cell_type": "code",
   "execution_count": 7,
   "metadata": {},
   "outputs": [],
   "source": [
    "import pandas as pd\n",
    "import matplotlib\n",
    "import matplotlib.pyplot as plt\n",
    "\n",
    "%matplotlib inline"
   ]
  },
  {
   "cell_type": "code",
   "execution_count": 15,
   "metadata": {},
   "outputs": [],
   "source": [
    "abc_rec = pd.read_csv('ABCreconstructedPos.dat', sep=' ')"
   ]
  },
  {
   "cell_type": "code",
   "execution_count": 16,
   "metadata": {},
   "outputs": [],
   "source": [
    "abc_rec_zoom = pd.read_csv('ABCreconstructedPos_zoom2.dat', sep=' ')\n",
    "#abc_rec_zoom = pd.read_csv('DarkMatter_ABCpostmean1000.dat', sep=' ')"
   ]
  },
  {
   "cell_type": "code",
   "execution_count": 18,
   "metadata": {},
   "outputs": [
    {
     "name": "stdout",
     "output_type": "stream",
     "text": [
      "(1570, 6)\n"
     ]
    },
    {
     "data": {
      "text/html": [
       "<div>\n",
       "<style scoped>\n",
       "    .dataframe tbody tr th:only-of-type {\n",
       "        vertical-align: middle;\n",
       "    }\n",
       "\n",
       "    .dataframe tbody tr th {\n",
       "        vertical-align: top;\n",
       "    }\n",
       "\n",
       "    .dataframe thead th {\n",
       "        text-align: right;\n",
       "    }\n",
       "</style>\n",
       "<table border=\"1\" class=\"dataframe\">\n",
       "  <thead>\n",
       "    <tr style=\"text-align: right;\">\n",
       "      <th></th>\n",
       "      <th>x_ABC_post_mean</th>\n",
       "      <th>y_ABC_post_mean</th>\n",
       "      <th>x_ABC_post_map</th>\n",
       "      <th>y_ABC_post_map</th>\n",
       "      <th>dist.ABC.mean</th>\n",
       "      <th>dist.ABC.map</th>\n",
       "    </tr>\n",
       "  </thead>\n",
       "  <tbody>\n",
       "    <tr>\n",
       "      <th>1</th>\n",
       "      <td>2.672788</td>\n",
       "      <td>-17.997502</td>\n",
       "      <td>2.683765</td>\n",
       "      <td>-17.977294</td>\n",
       "      <td>0.059109</td>\n",
       "      <td>0.059650</td>\n",
       "    </tr>\n",
       "    <tr>\n",
       "      <th>2</th>\n",
       "      <td>10.891222</td>\n",
       "      <td>-6.305192</td>\n",
       "      <td>10.848981</td>\n",
       "      <td>-6.288794</td>\n",
       "      <td>0.017786</td>\n",
       "      <td>0.063088</td>\n",
       "    </tr>\n",
       "    <tr>\n",
       "      <th>3</th>\n",
       "      <td>2.671983</td>\n",
       "      <td>37.816519</td>\n",
       "      <td>2.684311</td>\n",
       "      <td>37.839329</td>\n",
       "      <td>0.086407</td>\n",
       "      <td>0.099414</td>\n",
       "    </tr>\n",
       "    <tr>\n",
       "      <th>4</th>\n",
       "      <td>-21.223152</td>\n",
       "      <td>-4.425093</td>\n",
       "      <td>-21.279897</td>\n",
       "      <td>-4.424551</td>\n",
       "      <td>0.041177</td>\n",
       "      <td>0.029360</td>\n",
       "    </tr>\n",
       "    <tr>\n",
       "      <th>5</th>\n",
       "      <td>-18.114104</td>\n",
       "      <td>-23.216900</td>\n",
       "      <td>-18.137159</td>\n",
       "      <td>-23.240429</td>\n",
       "      <td>0.036085</td>\n",
       "      <td>0.065171</td>\n",
       "    </tr>\n",
       "  </tbody>\n",
       "</table>\n",
       "</div>"
      ],
      "text/plain": [
       "   x_ABC_post_mean  y_ABC_post_mean  x_ABC_post_map  y_ABC_post_map  \\\n",
       "1         2.672788       -17.997502        2.683765      -17.977294   \n",
       "2        10.891222        -6.305192       10.848981       -6.288794   \n",
       "3         2.671983        37.816519        2.684311       37.839329   \n",
       "4       -21.223152        -4.425093      -21.279897       -4.424551   \n",
       "5       -18.114104       -23.216900      -18.137159      -23.240429   \n",
       "\n",
       "   dist.ABC.mean  dist.ABC.map  \n",
       "1       0.059109      0.059650  \n",
       "2       0.017786      0.063088  \n",
       "3       0.086407      0.099414  \n",
       "4       0.041177      0.029360  \n",
       "5       0.036085      0.065171  "
      ]
     },
     "execution_count": 18,
     "metadata": {},
     "output_type": "execute_result"
    }
   ],
   "source": [
    "print(abc_rec_zoom.shape)\n",
    "abc_rec_zoom.head()"
   ]
  },
  {
   "cell_type": "code",
   "execution_count": 26,
   "metadata": {},
   "outputs": [],
   "source": [
    "# Read true positions list\n",
    "filename = 'data/truepos'  # Text file with x_y per row\n",
    "\n",
    "true_pos = pd.read_csv(filename, header=None, names=['x_true', 'y_true'], sep=' ')"
   ]
  },
  {
   "cell_type": "code",
   "execution_count": 27,
   "metadata": {},
   "outputs": [
    {
     "data": {
      "text/html": [
       "<div>\n",
       "<style scoped>\n",
       "    .dataframe tbody tr th:only-of-type {\n",
       "        vertical-align: middle;\n",
       "    }\n",
       "\n",
       "    .dataframe tbody tr th {\n",
       "        vertical-align: top;\n",
       "    }\n",
       "\n",
       "    .dataframe thead th {\n",
       "        text-align: right;\n",
       "    }\n",
       "</style>\n",
       "<table border=\"1\" class=\"dataframe\">\n",
       "  <thead>\n",
       "    <tr style=\"text-align: right;\">\n",
       "      <th></th>\n",
       "      <th>x_true</th>\n",
       "      <th>y_true</th>\n",
       "    </tr>\n",
       "  </thead>\n",
       "  <tbody>\n",
       "    <tr>\n",
       "      <th>0</th>\n",
       "      <td>2.626434</td>\n",
       "      <td>-17.960824</td>\n",
       "    </tr>\n",
       "    <tr>\n",
       "      <th>1</th>\n",
       "      <td>10.907536</td>\n",
       "      <td>-6.312277</td>\n",
       "    </tr>\n",
       "    <tr>\n",
       "      <th>2</th>\n",
       "      <td>2.726006</td>\n",
       "      <td>37.749081</td>\n",
       "    </tr>\n",
       "    <tr>\n",
       "      <th>3</th>\n",
       "      <td>-21.259064</td>\n",
       "      <td>-4.445240</td>\n",
       "    </tr>\n",
       "    <tr>\n",
       "      <th>4</th>\n",
       "      <td>-18.078293</td>\n",
       "      <td>-23.212466</td>\n",
       "    </tr>\n",
       "  </tbody>\n",
       "</table>\n",
       "</div>"
      ],
      "text/plain": [
       "      x_true     y_true\n",
       "0   2.626434 -17.960824\n",
       "1  10.907536  -6.312277\n",
       "2   2.726006  37.749081\n",
       "3 -21.259064  -4.445240\n",
       "4 -18.078293 -23.212466"
      ]
     },
     "execution_count": 27,
     "metadata": {},
     "output_type": "execute_result"
    }
   ],
   "source": [
    "true_pos.head()"
   ]
  },
  {
   "cell_type": "code",
   "execution_count": 28,
   "metadata": {},
   "outputs": [
    {
     "data": {
      "text/plain": [
       "(6297, 2)"
      ]
     },
     "execution_count": 28,
     "metadata": {},
     "output_type": "execute_result"
    }
   ],
   "source": [
    "true_pos.shape"
   ]
  },
  {
   "cell_type": "code",
   "execution_count": 11,
   "metadata": {},
   "outputs": [],
   "source": [
    "# Add the hitpatterns based on the simple model\n",
    "def add_pattern(row):\n",
    "    row['pattern'] = model(row['x_true'], row['y_true'])\n",
    "    return row"
   ]
  },
  {
   "cell_type": "code",
   "execution_count": 12,
   "metadata": {},
   "outputs": [],
   "source": [
    "true_pos = true_pos.apply(add_pattern, axis=1)"
   ]
  },
  {
   "cell_type": "code",
   "execution_count": 29,
   "metadata": {},
   "outputs": [
    {
     "data": {
      "text/html": [
       "<div>\n",
       "<style scoped>\n",
       "    .dataframe tbody tr th:only-of-type {\n",
       "        vertical-align: middle;\n",
       "    }\n",
       "\n",
       "    .dataframe tbody tr th {\n",
       "        vertical-align: top;\n",
       "    }\n",
       "\n",
       "    .dataframe thead th {\n",
       "        text-align: right;\n",
       "    }\n",
       "</style>\n",
       "<table border=\"1\" class=\"dataframe\">\n",
       "  <thead>\n",
       "    <tr style=\"text-align: right;\">\n",
       "      <th></th>\n",
       "      <th>x_true</th>\n",
       "      <th>y_true</th>\n",
       "    </tr>\n",
       "  </thead>\n",
       "  <tbody>\n",
       "    <tr>\n",
       "      <th>0</th>\n",
       "      <td>2.626434</td>\n",
       "      <td>-17.960824</td>\n",
       "    </tr>\n",
       "    <tr>\n",
       "      <th>1</th>\n",
       "      <td>10.907536</td>\n",
       "      <td>-6.312277</td>\n",
       "    </tr>\n",
       "    <tr>\n",
       "      <th>2</th>\n",
       "      <td>2.726006</td>\n",
       "      <td>37.749081</td>\n",
       "    </tr>\n",
       "    <tr>\n",
       "      <th>3</th>\n",
       "      <td>-21.259064</td>\n",
       "      <td>-4.445240</td>\n",
       "    </tr>\n",
       "    <tr>\n",
       "      <th>4</th>\n",
       "      <td>-18.078293</td>\n",
       "      <td>-23.212466</td>\n",
       "    </tr>\n",
       "  </tbody>\n",
       "</table>\n",
       "</div>"
      ],
      "text/plain": [
       "      x_true     y_true\n",
       "0   2.626434 -17.960824\n",
       "1  10.907536  -6.312277\n",
       "2   2.726006  37.749081\n",
       "3 -21.259064  -4.445240\n",
       "4 -18.078293 -23.212466"
      ]
     },
     "execution_count": 29,
     "metadata": {},
     "output_type": "execute_result"
    }
   ],
   "source": [
    "true_pos.head()"
   ]
  },
  {
   "cell_type": "code",
   "execution_count": 14,
   "metadata": {},
   "outputs": [],
   "source": [
    "# Store patterns for reconstruction\n",
    "np.savez('data/simple_lce_model_patterns_zoom2', hitpattern = true_pos['pattern'].values)"
   ]
  },
  {
   "cell_type": "code",
   "execution_count": 30,
   "metadata": {},
   "outputs": [],
   "source": [
    "# Load reconstructed patterns\n",
    "#reconstructed = np.load(\"data/simple_lce_model_patterns_rec.npz\")\n",
    "#reconstructed_zoom = np.load(\"data/simple_lce_model_patterns_rec_zoom10.npz\")\n",
    "reconstructed_zoom = np.load(\"data/simple_lce_model_patterns_rec_zoom10_zoom10gen.npz\")\n",
    "reconstructed = np.load(\"data/simple_lce_model_patterns_zoom2_rec_zoom4_zoom4gen.npz\")"
   ]
  },
  {
   "cell_type": "code",
   "execution_count": 31,
   "metadata": {},
   "outputs": [],
   "source": [
    "true_pos['x_rec'] = reconstructed['x_tpf_qe']\n",
    "true_pos['y_rec'] = reconstructed['y_tpf_qe']\n",
    "true_pos['x_rec_nn'] = reconstructed['x_nn_qe']\n",
    "true_pos['y_rec_nn'] = reconstructed['y_nn_qe']\n",
    "\n",
    "true_pos['x_rec_zoom'] = reconstructed_zoom['x_tpf_qe']\n",
    "true_pos['y_rec_zoom'] = reconstructed_zoom['y_tpf_qe']"
   ]
  },
  {
   "cell_type": "code",
   "execution_count": 32,
   "metadata": {},
   "outputs": [],
   "source": [
    "true_pos['d_tpf'] = np.sqrt((true_pos['x_true'] - true_pos['x_rec'])**2 + (true_pos['y_true'] - true_pos['y_rec'])**2)\n",
    "true_pos['d_tpf_zoom'] = np.sqrt((true_pos['x_true'] - true_pos['x_rec_zoom'])**2 + (true_pos['y_true'] - true_pos['y_rec_zoom'])**2)\n",
    "true_pos['d_nn'] = np.sqrt((true_pos['x_true'] - true_pos['x_rec_nn'])**2 + (true_pos['y_true'] - true_pos['y_rec_nn'])**2)"
   ]
  },
  {
   "cell_type": "code",
   "execution_count": 33,
   "metadata": {},
   "outputs": [
    {
     "data": {
      "text/html": [
       "<div>\n",
       "<style scoped>\n",
       "    .dataframe tbody tr th:only-of-type {\n",
       "        vertical-align: middle;\n",
       "    }\n",
       "\n",
       "    .dataframe tbody tr th {\n",
       "        vertical-align: top;\n",
       "    }\n",
       "\n",
       "    .dataframe thead th {\n",
       "        text-align: right;\n",
       "    }\n",
       "</style>\n",
       "<table border=\"1\" class=\"dataframe\">\n",
       "  <thead>\n",
       "    <tr style=\"text-align: right;\">\n",
       "      <th></th>\n",
       "      <th>x_true</th>\n",
       "      <th>y_true</th>\n",
       "      <th>x_rec</th>\n",
       "      <th>y_rec</th>\n",
       "      <th>x_rec_nn</th>\n",
       "      <th>y_rec_nn</th>\n",
       "      <th>x_rec_zoom</th>\n",
       "      <th>y_rec_zoom</th>\n",
       "      <th>d_tpf</th>\n",
       "      <th>d_tpf_zoom</th>\n",
       "      <th>d_nn</th>\n",
       "    </tr>\n",
       "  </thead>\n",
       "  <tbody>\n",
       "    <tr>\n",
       "      <th>0</th>\n",
       "      <td>2.626434</td>\n",
       "      <td>-17.960824</td>\n",
       "      <td>2.677409</td>\n",
       "      <td>-17.994681</td>\n",
       "      <td>2.750757</td>\n",
       "      <td>-18.203577</td>\n",
       "      <td>2.613182</td>\n",
       "      <td>-17.943847</td>\n",
       "      <td>0.061194</td>\n",
       "      <td>0.021537</td>\n",
       "      <td>0.272737</td>\n",
       "    </tr>\n",
       "    <tr>\n",
       "      <th>1</th>\n",
       "      <td>10.907536</td>\n",
       "      <td>-6.312277</td>\n",
       "      <td>10.896433</td>\n",
       "      <td>-6.288798</td>\n",
       "      <td>11.205810</td>\n",
       "      <td>-6.289808</td>\n",
       "      <td>10.925588</td>\n",
       "      <td>-6.296523</td>\n",
       "      <td>0.025971</td>\n",
       "      <td>0.023959</td>\n",
       "      <td>0.299119</td>\n",
       "    </tr>\n",
       "    <tr>\n",
       "      <th>2</th>\n",
       "      <td>2.726006</td>\n",
       "      <td>37.749081</td>\n",
       "      <td>2.677409</td>\n",
       "      <td>37.795056</td>\n",
       "      <td>3.010382</td>\n",
       "      <td>37.672687</td>\n",
       "      <td>2.712731</td>\n",
       "      <td>37.754252</td>\n",
       "      <td>0.066898</td>\n",
       "      <td>0.014246</td>\n",
       "      <td>0.294459</td>\n",
       "    </tr>\n",
       "    <tr>\n",
       "      <th>3</th>\n",
       "      <td>-21.259064</td>\n",
       "      <td>-4.445240</td>\n",
       "      <td>-21.232478</td>\n",
       "      <td>-4.420839</td>\n",
       "      <td>-21.026463</td>\n",
       "      <td>-4.142041</td>\n",
       "      <td>-21.278764</td>\n",
       "      <td>-4.454852</td>\n",
       "      <td>0.036086</td>\n",
       "      <td>0.021921</td>\n",
       "      <td>0.382142</td>\n",
       "    </tr>\n",
       "    <tr>\n",
       "      <th>4</th>\n",
       "      <td>-18.078293</td>\n",
       "      <td>-23.212466</td>\n",
       "      <td>-18.119212</td>\n",
       "      <td>-23.224969</td>\n",
       "      <td>-17.940467</td>\n",
       "      <td>-22.848985</td>\n",
       "      <td>-18.093172</td>\n",
       "      <td>-23.219985</td>\n",
       "      <td>0.042786</td>\n",
       "      <td>0.016671</td>\n",
       "      <td>0.388734</td>\n",
       "    </tr>\n",
       "  </tbody>\n",
       "</table>\n",
       "</div>"
      ],
      "text/plain": [
       "      x_true     y_true      x_rec      y_rec   x_rec_nn   y_rec_nn  \\\n",
       "0   2.626434 -17.960824   2.677409 -17.994681   2.750757 -18.203577   \n",
       "1  10.907536  -6.312277  10.896433  -6.288798  11.205810  -6.289808   \n",
       "2   2.726006  37.749081   2.677409  37.795056   3.010382  37.672687   \n",
       "3 -21.259064  -4.445240 -21.232478  -4.420839 -21.026463  -4.142041   \n",
       "4 -18.078293 -23.212466 -18.119212 -23.224969 -17.940467 -22.848985   \n",
       "\n",
       "   x_rec_zoom  y_rec_zoom     d_tpf  d_tpf_zoom      d_nn  \n",
       "0    2.613182  -17.943847  0.061194    0.021537  0.272737  \n",
       "1   10.925588   -6.296523  0.025971    0.023959  0.299119  \n",
       "2    2.712731   37.754252  0.066898    0.014246  0.294459  \n",
       "3  -21.278764   -4.454852  0.036086    0.021921  0.382142  \n",
       "4  -18.093172  -23.219985  0.042786    0.016671  0.388734  "
      ]
     },
     "execution_count": 33,
     "metadata": {},
     "output_type": "execute_result"
    }
   ],
   "source": [
    "true_pos.head()"
   ]
  },
  {
   "cell_type": "code",
   "execution_count": 25,
   "metadata": {},
   "outputs": [
    {
     "data": {
      "text/plain": [
       "(2821, 3)"
      ]
     },
     "execution_count": 25,
     "metadata": {},
     "output_type": "execute_result"
    }
   ],
   "source": [
    "abc_rec.shape"
   ]
  },
  {
   "cell_type": "code",
   "execution_count": 34,
   "metadata": {},
   "outputs": [
    {
     "data": {
      "image/png": "[encoded data removed]",
      "text/plain": [
       "<Figure size 576x432 with 1 Axes>"
      ]
     },
     "metadata": {},
     "output_type": "display_data"
    }
   ],
   "source": [
    "# Check if postions make sense\n",
    "plt.rcParams['font.size'] = 16\n",
    "d_range = 0.1\n",
    "n_ev = 1570\n",
    "plt.figure(figsize=(8,6))\n",
    "plt.hist(true_pos['d_tpf'][:n_ev], bins=100, range=(0, d_range), histtype='step', label='TPF')\n",
    "plt.hist(true_pos['d_tpf_zoom'][:n_ev], bins=100, range=(0, d_range), histtype='step', label='TPF zoom')\n",
    "plt.hist(true_pos['d_nn'][:n_ev], bins=100, range=(0, d_range), histtype='step', label='NN')\n",
    "plt.hist(abc_rec['dist.ABC'][:n_ev], bins=100, range=(0, d_range), histtype='step', label='ABC zoom')\n",
    "plt.hist(abc_rec_zoom['dist.ABC.mean'][:n_ev], bins=100, range=(0, d_range), histtype='step', label='ABC')\n",
    "#plt.axvline(1/8, color='red', linestyle='--', label='LCE binning')\n",
    "#plt.axvline(1/16, color='red', linestyle='--', label='LCE binning')\n",
    "#plt.axvline(1/32, color='red', linestyle='--', label='LCE binning')\n",
    "#plt.axvline(1/64, color='red', linestyle='--', label='LCE binning')\n",
    "plt.xlim(0, d_range)\n",
    "plt.xlabel('Distance [cm]')\n",
    "plt.ylabel('counts')\n",
    "plt.legend()\n",
    "#plt.savefig('d_tpf_abc_zoom.png', dpi=150)\n",
    "plt.show()"
   ]
  },
  {
   "cell_type": "code",
   "execution_count": 46,
   "metadata": {},
   "outputs": [],
   "source": [
    "# Save the positions (drop the patterns since these take up a lot of space)\n",
    "true_pos.drop('pattern', inplace=True, axis=1)\n",
    "\n",
    "true_pos.to_hdf('data/reconstructed_postions_simple.hdf', key='pos')"
   ]
  },
  {
   "cell_type": "code",
   "execution_count": 47,
   "metadata": {},
   "outputs": [],
   "source": [
    "# How to load this back into python\n",
    "data = pd.read_hdf('data/reconstructed_postions_simple.hdf', key='pos')"
   ]
  },
  {
   "cell_type": "code",
   "execution_count": 48,
   "metadata": {},
   "outputs": [
    {
     "data": {
      "text/html": [
       "<div>\n",
       "<style scoped>\n",
       "    .dataframe tbody tr th:only-of-type {\n",
       "        vertical-align: middle;\n",
       "    }\n",
       "\n",
       "    .dataframe tbody tr th {\n",
       "        vertical-align: top;\n",
       "    }\n",
       "\n",
       "    .dataframe thead th {\n",
       "        text-align: right;\n",
       "    }\n",
       "</style>\n",
       "<table border=\"1\" class=\"dataframe\">\n",
       "  <thead>\n",
       "    <tr style=\"text-align: right;\">\n",
       "      <th></th>\n",
       "      <th>x_true</th>\n",
       "      <th>y_true</th>\n",
       "      <th>x_rec</th>\n",
       "      <th>y_rec</th>\n",
       "      <th>x_rec_nn</th>\n",
       "      <th>y_rec_nn</th>\n",
       "      <th>x_rec_zoom</th>\n",
       "      <th>y_rec_zoom</th>\n",
       "      <th>d_tpf</th>\n",
       "      <th>d_tpf_zoom</th>\n",
       "      <th>d_nn</th>\n",
       "    </tr>\n",
       "  </thead>\n",
       "  <tbody>\n",
       "    <tr>\n",
       "      <th>0</th>\n",
       "      <td>2.626434</td>\n",
       "      <td>-17.960824</td>\n",
       "      <td>2.520230</td>\n",
       "      <td>-17.881634</td>\n",
       "      <td>2.535508</td>\n",
       "      <td>-18.200328</td>\n",
       "      <td>2.613182</td>\n",
       "      <td>-17.943847</td>\n",
       "      <td>0.132478</td>\n",
       "      <td>0.021537</td>\n",
       "      <td>0.256184</td>\n",
       "    </tr>\n",
       "    <tr>\n",
       "      <th>1</th>\n",
       "      <td>10.907536</td>\n",
       "      <td>-6.312277</td>\n",
       "      <td>10.920998</td>\n",
       "      <td>-6.360581</td>\n",
       "      <td>11.275090</td>\n",
       "      <td>-6.346362</td>\n",
       "      <td>10.925588</td>\n",
       "      <td>-6.296523</td>\n",
       "      <td>0.050145</td>\n",
       "      <td>0.023959</td>\n",
       "      <td>0.369130</td>\n",
       "    </tr>\n",
       "    <tr>\n",
       "      <th>2</th>\n",
       "      <td>2.726006</td>\n",
       "      <td>37.749081</td>\n",
       "      <td>2.760252</td>\n",
       "      <td>37.803454</td>\n",
       "      <td>3.125084</td>\n",
       "      <td>37.720948</td>\n",
       "      <td>2.712731</td>\n",
       "      <td>37.754252</td>\n",
       "      <td>0.064259</td>\n",
       "      <td>0.014246</td>\n",
       "      <td>0.400069</td>\n",
       "    </tr>\n",
       "    <tr>\n",
       "      <th>3</th>\n",
       "      <td>-21.259064</td>\n",
       "      <td>-4.445240</td>\n",
       "      <td>-21.241941</td>\n",
       "      <td>-4.440406</td>\n",
       "      <td>-21.017482</td>\n",
       "      <td>-3.832932</td>\n",
       "      <td>-21.278764</td>\n",
       "      <td>-4.454852</td>\n",
       "      <td>0.017792</td>\n",
       "      <td>0.021921</td>\n",
       "      <td>0.658242</td>\n",
       "    </tr>\n",
       "    <tr>\n",
       "      <th>4</th>\n",
       "      <td>-18.078293</td>\n",
       "      <td>-23.212466</td>\n",
       "      <td>-18.121656</td>\n",
       "      <td>-23.162116</td>\n",
       "      <td>-17.869011</td>\n",
       "      <td>-22.379250</td>\n",
       "      <td>-18.093172</td>\n",
       "      <td>-23.219985</td>\n",
       "      <td>0.066449</td>\n",
       "      <td>0.016671</td>\n",
       "      <td>0.859097</td>\n",
       "    </tr>\n",
       "  </tbody>\n",
       "</table>\n",
       "</div>"
      ],
      "text/plain": [
       "      x_true     y_true      x_rec      y_rec   x_rec_nn   y_rec_nn  \\\n",
       "0   2.626434 -17.960824   2.520230 -17.881634   2.535508 -18.200328   \n",
       "1  10.907536  -6.312277  10.920998  -6.360581  11.275090  -6.346362   \n",
       "2   2.726006  37.749081   2.760252  37.803454   3.125084  37.720948   \n",
       "3 -21.259064  -4.445240 -21.241941  -4.440406 -21.017482  -3.832932   \n",
       "4 -18.078293 -23.212466 -18.121656 -23.162116 -17.869011 -22.379250   \n",
       "\n",
       "   x_rec_zoom  y_rec_zoom     d_tpf  d_tpf_zoom      d_nn  \n",
       "0    2.613182  -17.943847  0.132478    0.021537  0.256184  \n",
       "1   10.925588   -6.296523  0.050145    0.023959  0.369130  \n",
       "2    2.712731   37.754252  0.064259    0.014246  0.400069  \n",
       "3  -21.278764   -4.454852  0.017792    0.021921  0.658242  \n",
       "4  -18.093172  -23.219985  0.066449    0.016671  0.859097  "
      ]
     },
     "execution_count": 48,
     "metadata": {},
     "output_type": "execute_result"
    }
   ],
   "source": [
    "data.head()"
   ]
  },
  {
   "cell_type": "code",
   "execution_count": null,
   "metadata": {
    "collapsed": true
   },
   "outputs": [],
   "source": []
  }
 ],
 "metadata": {
  "kernelspec": {
   "display_name": "Python 3",
   "language": "python",
   "name": "python3"
  },
  "language_info": {
   "codemirror_mode": {
    "name": "ipython",
    "version": 3
   },
   "file_extension": ".py",
   "mimetype": "text/x-python",
   "name": "python",
   "nbconvert_exporter": "python",
   "pygments_lexer": "ipython3",
   "version": "3.5.5"
  }
 },
 "nbformat": 4,
 "nbformat_minor": 1
}
