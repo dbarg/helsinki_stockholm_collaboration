{
 "cells": [
  {
   "cell_type": "code",
   "execution_count": 1,
   "metadata": {},
   "outputs": [],
   "source": [
    "# ABCreconstructedPos_bc.dat\n",
    "# ABCreconstructedPos.dat\n",
    "# ABCreconstructedPos_eu.dat\n",
    "# ABCreconstructedPos_zoom2.dat"
   ]
  },
  {
   "cell_type": "code",
   "execution_count": 5,
   "metadata": {},
   "outputs": [],
   "source": [
    "import numpy as np\n",
    "import pandas as pd\n",
    "import matplotlib\n",
    "import matplotlib.pyplot as plt\n",
    "\n",
    "%matplotlib inline"
   ]
  },
  {
   "cell_type": "code",
   "execution_count": 31,
   "metadata": {},
   "outputs": [],
   "source": [
    "plt.rc('text', usetex=True)\n",
    "plt.rc('font', family='serif')"
   ]
  },
  {
   "cell_type": "code",
   "execution_count": 32,
   "metadata": {},
   "outputs": [],
   "source": [
    "plt.rc('font', size=16)"
   ]
  },
  {
   "cell_type": "code",
   "execution_count": 28,
   "metadata": {},
   "outputs": [
    {
     "name": "stdout",
     "output_type": "stream",
     "text": [
      "Index(['x_true', 'y_true', 'x_rec', 'y_rec', 'x_rec_nn', 'y_rec_nn',\n",
      "       'x_rec_zoom', 'y_rec_zoom', 'd_tpf', 'd_tpf_zoom', 'd_nn'],\n",
      "      dtype='object')\n"
     ]
    }
   ],
   "source": [
    "positions = pd.read_hdf(\"data/reconstructed_postions_simple.hdf\")\n",
    "print(positions.keys())"
   ]
  },
  {
   "cell_type": "code",
   "execution_count": 15,
   "metadata": {},
   "outputs": [
    {
     "name": "stdout",
     "output_type": "stream",
     "text": [
      "Index(['x_ABC_post_mean.euc', 'y_ABC_post_mean.euc', 'dist.ABC.mean.euc'], dtype='object')\n"
     ]
    }
   ],
   "source": [
    "data_eu = pd.read_csv(\"ABCreconstructedPos_eu.dat\", sep=' ')\n",
    "data_bc = pd.read_csv(\"ABCreconstructedPos_bc.dat\", sep=' ')\n",
    "data_test = pd.read_csv(\"ABCreconstructedPos.dat\", sep=' ')\n",
    "print(data_eu.keys())"
   ]
  },
  {
   "cell_type": "code",
   "execution_count": 16,
   "metadata": {},
   "outputs": [
    {
     "data": {
      "text/plain": [
       "Index(['x_ABC_post_mean.bc', 'y_ABC_post_mean.bc', 'dist.ABC.mean.bc'], dtype='object')"
      ]
     },
     "execution_count": 16,
     "metadata": {},
     "output_type": "execute_result"
    }
   ],
   "source": [
    "data_bc.keys()"
   ]
  },
  {
   "cell_type": "code",
   "execution_count": 17,
   "metadata": {},
   "outputs": [
    {
     "data": {
      "text/plain": [
       "Index(['x_ABC_post_mean', 'y_ABC_post_mean', 'dist.ABC'], dtype='object')"
      ]
     },
     "execution_count": 17,
     "metadata": {},
     "output_type": "execute_result"
    }
   ],
   "source": [
    "data_test.keys()"
   ]
  },
  {
   "cell_type": "code",
   "execution_count": 50,
   "metadata": {},
   "outputs": [
    {
     "data": {
      "image/png": "[encoded data removed]",
      "text/plain": [
       "<Figure size 576x288 with 1 Axes>"
      ]
     },
     "metadata": {},
     "output_type": "display_data"
    }
   ],
   "source": [
    "nbins = 90\n",
    "hist_r = (0, 0.6)\n",
    "\n",
    "plt.figure(figsize=(8, 4))\n",
    "\n",
    "mu, std = data_eu['dist.ABC.mean.euc'].mean(), data_eu['dist.ABC.mean.euc'].std()\n",
    "plt.hist(data_eu['dist.ABC.mean.euc'], bins=nbins, range=hist_r, histtype='step', label='ABC (Euclidean), $\\mu=%.2f \\pm %.2f$~cm' % (mu, std), linewidth=2)\n",
    "\n",
    "mu, std = data_bc['dist.ABC.mean.bc'].mean(), data_bc['dist.ABC.mean.bc'].std()\n",
    "plt.hist(data_bc['dist.ABC.mean.bc'], bins=nbins, range=hist_r, histtype='step', label='ABC (Bray-Curtis), $\\mu=%.2f \\pm %.2f$~cm' % (mu, std), linewidth=2, linestyle='--')\n",
    "\n",
    "mu, std = positions['d_tpf'].mean(), positions['d_tpf'].std()\n",
    "plt.hist(positions['d_tpf'], bins=nbins, range=hist_r, histtype='step', label='TPF, $\\mu=%.2f \\pm %.2f$~cm' % (mu, std), linewidth=2)\n",
    "\n",
    "mu, std = positions['d_nn'].mean(), positions['d_nn'].std()\n",
    "plt.hist(positions['d_nn'], bins=nbins, range=hist_r, histtype='step', label='NN, $\\mu=%.2f \\pm %.2f$~cm' % (mu, std), linewidth=2)\n",
    "\n",
    "plt.legend(loc='best')\n",
    "plt.xlim(*hist_r)\n",
    "plt.xlabel('Distance [cm]')\n",
    "plt.ylabel('Counts/bin')\n",
    "#plt.savefig('Figure2_paper.png', bbox_inches='tight', dpi=150)\n",
    "plt.show()"
   ]
  }
 ],
 "metadata": {
  "kernelspec": {
   "display_name": "Python 3",
   "language": "python",
   "name": "python3"
  },
  "language_info": {
   "codemirror_mode": {
    "name": "ipython",
    "version": 3
   },
   "file_extension": ".py",
   "mimetype": "text/x-python",
   "name": "python",
   "nbconvert_exporter": "python",
   "pygments_lexer": "ipython3",
   "version": "3.5.5"
  }
 },
 "nbformat": 4,
 "nbformat_minor": 2
}
